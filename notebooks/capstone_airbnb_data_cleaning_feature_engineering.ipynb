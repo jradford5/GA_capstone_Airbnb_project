{
 "cells": [
  {
   "cell_type": "markdown",
   "metadata": {},
   "source": [
    "# Data Cleaning and Feature Engineering\n",
    "\n",
    "This notebook will contain all of the code used to clean the Airbnb listings data within a pandas dataframe and engineer new features for the purpose of building a regression to predict the prices of Airbnb properties in London."
   ]
  },
  {
   "cell_type": "code",
   "execution_count": 1,
   "metadata": {},
   "outputs": [],
   "source": [
    "# importing the libraries/modules that will be used within this notebook\n",
    "\n",
    "import pandas as pd\n",
    "import geopy.distance\n",
    "from geopy.extra.rate_limiter import RateLimiter\n",
    "import numpy as np\n",
    "\n",
    "import matplotlib.pyplot as plt\n",
    "import seaborn as sns\n",
    "\n",
    "import joblib"
   ]
  },
  {
   "cell_type": "code",
   "execution_count": 2,
   "metadata": {},
   "outputs": [],
   "source": [
    "# opening the listings.csv document as a pandas dataframe\n",
    "\n",
    "df = pd.read_csv(\"../data/july_6th_airbnb_csv_files/listings.csv\")"
   ]
  },
  {
   "cell_type": "markdown",
   "metadata": {},
   "source": [
    "Note: this project is now using the listings datasets uploaded to InsideAirbnb.com on July 6th."
   ]
  },
  {
   "cell_type": "code",
   "execution_count": 3,
   "metadata": {},
   "outputs": [
    {
     "data": {
      "text/plain": [
       "(73364, 74)"
      ]
     },
     "execution_count": 3,
     "metadata": {},
     "output_type": "execute_result"
    }
   ],
   "source": [
    "# dataframe has 74 columns and 74840 rows\n",
    "\n",
    "df.shape"
   ]
  },
  {
   "cell_type": "markdown",
   "metadata": {},
   "source": [
    "## Data Cleaning\n",
    "\n",
    "Directly below is an alphabetical list of the 74 columns that exist within the Airbnb listings dataset. In the following code, I'm going to decide which columns will be useful for this project, discard the columns that are irrelevant or duplicates and \"clean\" the columns that, in their current format (e.g. the price column has a dollar sign at the beginning of each value and is thus stored as a piece of text rather than a number), can't be used for modelling purposes. "
   ]
  },
  {
   "cell_type": "code",
   "execution_count": 4,
   "metadata": {
    "scrolled": false
   },
   "outputs": [
    {
     "data": {
      "text/plain": [
       "['accommodates',\n",
       " 'amenities',\n",
       " 'availability_30',\n",
       " 'availability_365',\n",
       " 'availability_60',\n",
       " 'availability_90',\n",
       " 'bathrooms',\n",
       " 'bathrooms_text',\n",
       " 'bedrooms',\n",
       " 'beds',\n",
       " 'calculated_host_listings_count',\n",
       " 'calculated_host_listings_count_entire_homes',\n",
       " 'calculated_host_listings_count_private_rooms',\n",
       " 'calculated_host_listings_count_shared_rooms',\n",
       " 'calendar_last_scraped',\n",
       " 'calendar_updated',\n",
       " 'description',\n",
       " 'first_review',\n",
       " 'has_availability',\n",
       " 'host_about',\n",
       " 'host_acceptance_rate',\n",
       " 'host_has_profile_pic',\n",
       " 'host_id',\n",
       " 'host_identity_verified',\n",
       " 'host_is_superhost',\n",
       " 'host_listings_count',\n",
       " 'host_location',\n",
       " 'host_name',\n",
       " 'host_neighbourhood',\n",
       " 'host_picture_url',\n",
       " 'host_response_rate',\n",
       " 'host_response_time',\n",
       " 'host_since',\n",
       " 'host_thumbnail_url',\n",
       " 'host_total_listings_count',\n",
       " 'host_url',\n",
       " 'host_verifications',\n",
       " 'id',\n",
       " 'instant_bookable',\n",
       " 'last_review',\n",
       " 'last_scraped',\n",
       " 'latitude',\n",
       " 'license',\n",
       " 'listing_url',\n",
       " 'longitude',\n",
       " 'maximum_maximum_nights',\n",
       " 'maximum_minimum_nights',\n",
       " 'maximum_nights',\n",
       " 'maximum_nights_avg_ntm',\n",
       " 'minimum_maximum_nights',\n",
       " 'minimum_minimum_nights',\n",
       " 'minimum_nights',\n",
       " 'minimum_nights_avg_ntm',\n",
       " 'name',\n",
       " 'neighborhood_overview',\n",
       " 'neighbourhood',\n",
       " 'neighbourhood_cleansed',\n",
       " 'neighbourhood_group_cleansed',\n",
       " 'number_of_reviews',\n",
       " 'number_of_reviews_l30d',\n",
       " 'number_of_reviews_ltm',\n",
       " 'picture_url',\n",
       " 'price',\n",
       " 'property_type',\n",
       " 'review_scores_accuracy',\n",
       " 'review_scores_checkin',\n",
       " 'review_scores_cleanliness',\n",
       " 'review_scores_communication',\n",
       " 'review_scores_location',\n",
       " 'review_scores_rating',\n",
       " 'review_scores_value',\n",
       " 'reviews_per_month',\n",
       " 'room_type',\n",
       " 'scrape_id']"
      ]
     },
     "execution_count": 4,
     "metadata": {},
     "output_type": "execute_result"
    }
   ],
   "source": [
    "sorted(list(df.columns))"
   ]
  },
  {
   "cell_type": "markdown",
   "metadata": {},
   "source": [
    "## Discarding columns\n",
    "\n",
    "The first thing I'm going to do is discard the columns that I can immediately see won't be useful for modelling. "
   ]
  },
  {
   "cell_type": "markdown",
   "metadata": {},
   "source": [
    "The purpose of this project is to build a model to predict the prices of Airbnb properties that could be used by hosts when they list a new property. Since new properties aren't going to have any existing review data, I'm not going to be able use any review columns within the dataset to help predict their prices. All of the columns below are going to be discarded."
   ]
  },
  {
   "cell_type": "code",
   "execution_count": 5,
   "metadata": {},
   "outputs": [],
   "source": [
    "review_cols_drop = ['number_of_reviews', 'number_of_reviews_ltm', 'number_of_reviews_l30d',\n",
    "                    'first_review', 'last_review', 'review_scores_rating',\n",
    "                    'review_scores_accuracy', 'review_scores_cleanliness', 'review_scores_checkin',\n",
    "                    'review_scores_communication', 'review_scores_location',\n",
    "                    'review_scores_value', 'reviews_per_month']\n",
    "\n",
    "df.drop(review_cols_drop,axis=1,inplace=True)"
   ]
  },
  {
   "cell_type": "markdown",
   "metadata": {},
   "source": [
    "Here are the columns related to the property host that I'm going to be dropping. Some of them are objectively useless as predictor variables (e.g. host_url, host_picture_url) and others are columns that I believe aren't useful (e.g. the name of the host or where they are based)."
   ]
  },
  {
   "cell_type": "code",
   "execution_count": 6,
   "metadata": {},
   "outputs": [],
   "source": [
    "host_cols_drop = ['host_since', 'host_url', 'host_verifications', 'host_name', 'host_location',\n",
    "                  'host_thumbnail_url', 'host_picture_url', 'host_neighbourhood',\n",
    "                  'host_listings_count', 'host_total_listings_count', 'calculated_host_listings_count_entire_homes',\n",
    "                  'calculated_host_listings_count_private_rooms', 'calculated_host_listings_count_shared_rooms',]\n",
    "\n",
    "df.drop(host_cols_drop,axis=1,inplace=True)"
   ]
  },
  {
   "cell_type": "markdown",
   "metadata": {},
   "source": [
    "Below is a mish-mash of columns that either contain no values, are duplicates of other columns or, in my opinion, won't be useful predictor variables."
   ]
  },
  {
   "cell_type": "code",
   "execution_count": 7,
   "metadata": {},
   "outputs": [],
   "source": [
    "useless_cols_drop = ['scrape_id', 'last_scraped', 'picture_url', 'neighbourhood',\n",
    "                     'neighbourhood_group_cleansed', 'bathrooms', 'minimum_nights',\n",
    "                     'maximum_nights', 'minimum_minimum_nights', 'maximum_minimum_nights',\n",
    "                     'minimum_maximum_nights', 'maximum_maximum_nights', 'minimum_nights_avg_ntm',\n",
    "                     'maximum_nights_avg_ntm', 'calendar_updated', 'has_availability',\n",
    "                     'availability_30', 'availability_60', 'availability_90', 'availability_365',\n",
    "                     'calendar_last_scraped', 'license']\n",
    "\n",
    "df.drop(useless_cols_drop,axis=1,inplace=True)"
   ]
  },
  {
   "cell_type": "markdown",
   "metadata": {},
   "source": [
    "Before I start any data cleaning, I'm going to rename a couple of the columns so that their titles make more sense."
   ]
  },
  {
   "cell_type": "code",
   "execution_count": 8,
   "metadata": {},
   "outputs": [],
   "source": [
    "df.rename(columns={'bathrooms_text': 'bathrooms', 'neighbourhood_cleansed': 'neighbourhood'},inplace=True)"
   ]
  },
  {
   "cell_type": "markdown",
   "metadata": {},
   "source": [
    "## Filling null values\n",
    "\n",
    "Let's have a look at the remaining columns that have null values."
   ]
  },
  {
   "cell_type": "code",
   "execution_count": 9,
   "metadata": {},
   "outputs": [
    {
     "data": {
      "text/html": [
       "<div>\n",
       "<style scoped>\n",
       "    .dataframe tbody tr th:only-of-type {\n",
       "        vertical-align: middle;\n",
       "    }\n",
       "\n",
       "    .dataframe tbody tr th {\n",
       "        vertical-align: top;\n",
       "    }\n",
       "\n",
       "    .dataframe thead th {\n",
       "        text-align: right;\n",
       "    }\n",
       "</style>\n",
       "<table border=\"1\" class=\"dataframe\">\n",
       "  <thead>\n",
       "    <tr style=\"text-align: right;\">\n",
       "      <th></th>\n",
       "      <th>0</th>\n",
       "    </tr>\n",
       "  </thead>\n",
       "  <tbody>\n",
       "    <tr>\n",
       "      <th>name</th>\n",
       "      <td>23</td>\n",
       "    </tr>\n",
       "    <tr>\n",
       "      <th>description</th>\n",
       "      <td>3189</td>\n",
       "    </tr>\n",
       "    <tr>\n",
       "      <th>neighborhood_overview</th>\n",
       "      <td>29528</td>\n",
       "    </tr>\n",
       "    <tr>\n",
       "      <th>host_about</th>\n",
       "      <td>33385</td>\n",
       "    </tr>\n",
       "    <tr>\n",
       "      <th>host_response_time</th>\n",
       "      <td>38307</td>\n",
       "    </tr>\n",
       "    <tr>\n",
       "      <th>host_response_rate</th>\n",
       "      <td>38307</td>\n",
       "    </tr>\n",
       "    <tr>\n",
       "      <th>host_acceptance_rate</th>\n",
       "      <td>37259</td>\n",
       "    </tr>\n",
       "    <tr>\n",
       "      <th>host_is_superhost</th>\n",
       "      <td>644</td>\n",
       "    </tr>\n",
       "    <tr>\n",
       "      <th>host_has_profile_pic</th>\n",
       "      <td>644</td>\n",
       "    </tr>\n",
       "    <tr>\n",
       "      <th>host_identity_verified</th>\n",
       "      <td>644</td>\n",
       "    </tr>\n",
       "    <tr>\n",
       "      <th>bathrooms</th>\n",
       "      <td>183</td>\n",
       "    </tr>\n",
       "    <tr>\n",
       "      <th>bedrooms</th>\n",
       "      <td>4652</td>\n",
       "    </tr>\n",
       "    <tr>\n",
       "      <th>beds</th>\n",
       "      <td>1221</td>\n",
       "    </tr>\n",
       "  </tbody>\n",
       "</table>\n",
       "</div>"
      ],
      "text/plain": [
       "                            0\n",
       "name                       23\n",
       "description              3189\n",
       "neighborhood_overview   29528\n",
       "host_about              33385\n",
       "host_response_time      38307\n",
       "host_response_rate      38307\n",
       "host_acceptance_rate    37259\n",
       "host_is_superhost         644\n",
       "host_has_profile_pic      644\n",
       "host_identity_verified    644\n",
       "bathrooms                 183\n",
       "bedrooms                 4652\n",
       "beds                     1221"
      ]
     },
     "execution_count": 9,
     "metadata": {},
     "output_type": "execute_result"
    }
   ],
   "source": [
    "null_values = pd.DataFrame(df.isnull().sum())\n",
    "null_values = null_values[null_values[0] != 0]\n",
    "null_values"
   ]
  },
  {
   "cell_type": "markdown",
   "metadata": {},
   "source": [
    "### Text Columns"
   ]
  },
  {
   "cell_type": "markdown",
   "metadata": {},
   "source": [
    "For the text columns containing null values, I'm going to fill them in with the word 'null' to avoid having to remove these rows from my dataset. Later on this project, I'll be able to process this dataset so that these words are ignored by my model. "
   ]
  },
  {
   "cell_type": "code",
   "execution_count": 10,
   "metadata": {},
   "outputs": [],
   "source": [
    "# filling the null values in the following columns rather than removing any rows\n",
    "\n",
    "df.name.fillna('null',inplace=True)\n",
    "df.description.fillna('null',inplace=True)\n",
    "df.neighborhood_overview.fillna('null',inplace=True)\n",
    "df.host_about.fillna('null',inplace=True)"
   ]
  },
  {
   "cell_type": "markdown",
   "metadata": {},
   "source": [
    "### Beds and bedrooms columns\n",
    "\n",
    "To begin with, I'm going to deal with the bedrooms column as it contains more null values than the beds column. \n",
    "\n",
    "The assumption I'm making is that in the majority of the properties, the number of beds will match the number of bedrooms. As such, where the beds value is not null or 0, I'm going to use it to fill in the corresponding null bedrooms value. Where the beds value is null or zero, I'm going to fill it in with the median bedrooms value, which is 1, instead."
   ]
  },
  {
   "cell_type": "code",
   "execution_count": 11,
   "metadata": {},
   "outputs": [],
   "source": [
    "# filling in the null values in the bedrooms with the beds value, as these will generally be a straight match\n",
    "\n",
    "def bedroom_cleaner(row):\n",
    "    if np.isnan(row['bedrooms']) and row['beds'] != 0 and not np.isnan(row['beds']):\n",
    "        return row['beds']\n",
    "    elif np.isnan(row['bedrooms']):\n",
    "        return df.bedrooms.median()\n",
    "    else:\n",
    "        return row['bedrooms']\n",
    "    \n",
    "df['bedrooms'] = df.apply(bedroom_cleaner,axis=1)"
   ]
  },
  {
   "cell_type": "markdown",
   "metadata": {},
   "source": [
    "For the beds column, I'm just going to fill the null values with the column's median value of 1."
   ]
  },
  {
   "cell_type": "code",
   "execution_count": 12,
   "metadata": {},
   "outputs": [],
   "source": [
    "# filling null values in the beds column with the median values\n",
    "\n",
    "df.beds.fillna(df.beds.median(),inplace=True)"
   ]
  },
  {
   "cell_type": "markdown",
   "metadata": {},
   "source": [
    "The 0 values in the beds column will be filled with the median value for the column."
   ]
  },
  {
   "cell_type": "code",
   "execution_count": 13,
   "metadata": {},
   "outputs": [],
   "source": [
    "df.loc[df.beds==0, 'beds'] = df.beds.median()"
   ]
  },
  {
   "cell_type": "markdown",
   "metadata": {},
   "source": [
    "I've created a function to allow me to look at the distribution of values in each variable"
   ]
  },
  {
   "cell_type": "code",
   "execution_count": 81,
   "metadata": {},
   "outputs": [],
   "source": [
    "# function for analysing a variable\n",
    "\n",
    "def variable_viewer(x):\n",
    "    values = df[x].value_counts(sort=False)\n",
    "    proportion = df[x].value_counts(sort=False,normalize='all')\n",
    "    variable_df = pd.DataFrame({'value_counts': values, 'proportion': proportion})\n",
    "    return variable_df.sort_values('value_counts', ascending=False)"
   ]
  },
  {
   "cell_type": "markdown",
   "metadata": {},
   "source": [
    "### Converting true/false columns to binary values\n",
    "\n",
    "For the columns containing 't' (true), 'f' (false) and null values. I'm going to convert them to contain binary values, where 1 represents true and 0 is false or null."
   ]
  },
  {
   "cell_type": "code",
   "execution_count": 15,
   "metadata": {},
   "outputs": [],
   "source": [
    "columns_to_binarise = ['host_is_superhost', 'host_has_profile_pic', 'host_identity_verified', 'instant_bookable']"
   ]
  },
  {
   "cell_type": "code",
   "execution_count": 16,
   "metadata": {},
   "outputs": [],
   "source": [
    "for column in columns_to_binarise:\n",
    "    df[column] = df[column].apply(lambda x: 1 if x=='t' else 0)"
   ]
  },
  {
   "cell_type": "markdown",
   "metadata": {},
   "source": [
    "### Host response time\n",
    "\n",
    "A larger number of the host response time values are null values. So we can one-hot encode this column for modelling, I'm going to convert the null values to 'unknown'."
   ]
  },
  {
   "cell_type": "code",
   "execution_count": 17,
   "metadata": {},
   "outputs": [
    {
     "data": {
      "text/plain": [
       "NaN                   0.522150\n",
       "within an hour        0.260196\n",
       "within a few hours    0.094910\n",
       "within a day          0.077245\n",
       "a few days or more    0.045499\n",
       "Name: host_response_time, dtype: float64"
      ]
     },
     "execution_count": 17,
     "metadata": {},
     "output_type": "execute_result"
    }
   ],
   "source": [
    "df.host_response_time.value_counts(normalize='all',dropna=False)"
   ]
  },
  {
   "cell_type": "code",
   "execution_count": 18,
   "metadata": {},
   "outputs": [],
   "source": [
    "df.host_response_time.fillna('unknown',inplace=True)"
   ]
  },
  {
   "cell_type": "markdown",
   "metadata": {},
   "source": [
    "### Host acceptance rate\n",
    "\n",
    "Like previously, a lot of the values in the host acceptance rate column are null. This causes an issue as there are too many null values to fill with an aggregated value, but if we don't fill them, then we aren't able to use the non-null acceptance rates as they are.\n",
    "\n",
    "The best solution in this instance is to categorize the values before one-hot encoding them. The Airbnb host guide (https://blog.atairbnb.com/hospitality-starts-with-accepting-reservations/) states that the top hosts have an acceptance rate of 75% or above, so I'll categorize the rates in my dataset depending on whether they're in this bracket or if they either aren't or are null. "
   ]
  },
  {
   "cell_type": "code",
   "execution_count": 19,
   "metadata": {},
   "outputs": [
    {
     "data": {
      "text/plain": [
       "NaN     0.507865\n",
       "100%    0.165572\n",
       "0%      0.045363\n",
       "97%     0.021755\n",
       "99%     0.019724\n",
       "50%     0.017979\n",
       "95%     0.013072\n",
       "98%     0.011777\n",
       "96%     0.011722\n",
       "67%     0.011395\n",
       "Name: host_acceptance_rate, dtype: float64"
      ]
     },
     "execution_count": 19,
     "metadata": {},
     "output_type": "execute_result"
    }
   ],
   "source": [
    "df.host_acceptance_rate.value_counts(normalize='all', dropna=False).head(10)"
   ]
  },
  {
   "cell_type": "code",
   "execution_count": 20,
   "metadata": {},
   "outputs": [],
   "source": [
    "df['host_acceptance_rate'] = df.host_acceptance_rate.str.replace('%','').fillna(np.nan).astype('float')"
   ]
  },
  {
   "cell_type": "code",
   "execution_count": 21,
   "metadata": {},
   "outputs": [],
   "source": [
    "# function to categorize host acceptance rates\n",
    "\n",
    "def host_filler(x):\n",
    "    if not np.isnan(x) and x >= 75:\n",
    "        return \"Above or equal to 75%\"\n",
    "    else:\n",
    "        return \"Below 75% or not displayed\""
   ]
  },
  {
   "cell_type": "code",
   "execution_count": 22,
   "metadata": {},
   "outputs": [],
   "source": [
    "df['host_acceptance_rate'] = df.host_acceptance_rate.apply(host_filler)"
   ]
  },
  {
   "cell_type": "markdown",
   "metadata": {},
   "source": [
    "### Host response rate"
   ]
  },
  {
   "cell_type": "markdown",
   "metadata": {},
   "source": [
    "Since the host response rate column has a similar issue as the host acceptance rate, it makes sense to solve it using the same method."
   ]
  },
  {
   "cell_type": "code",
   "execution_count": 23,
   "metadata": {},
   "outputs": [
    {
     "data": {
      "text/plain": [
       "NaN     0.522150\n",
       "100%    0.298457\n",
       "0%      0.030587\n",
       "90%     0.014271\n",
       "50%     0.009432\n",
       "80%     0.008342\n",
       "99%     0.008287\n",
       "98%     0.008028\n",
       "97%     0.007838\n",
       "96%     0.006979\n",
       "Name: host_response_rate, dtype: float64"
      ]
     },
     "execution_count": 23,
     "metadata": {},
     "output_type": "execute_result"
    }
   ],
   "source": [
    "df.host_response_rate.value_counts(normalize='all', dropna=False).head(10)"
   ]
  },
  {
   "cell_type": "code",
   "execution_count": 24,
   "metadata": {},
   "outputs": [],
   "source": [
    "# removing the % sign, filling null values with np.nan and converting the values to floats\n",
    "\n",
    "df['host_response_rate'] = df.host_response_rate.str.replace('%','').fillna(np.nan).astype('float')"
   ]
  },
  {
   "cell_type": "code",
   "execution_count": 25,
   "metadata": {},
   "outputs": [],
   "source": [
    "df['host_response_rate'] = df.host_response_rate.apply(host_filler)"
   ]
  },
  {
   "cell_type": "markdown",
   "metadata": {},
   "source": [
    "### Bathrooms column"
   ]
  },
  {
   "cell_type": "markdown",
   "metadata": {},
   "source": [
    "As the example below shows, the column showing the number of bathrooms in each property is stored as a text value. The code I've written beneath the example will convert the bathroom value from text to a float.\n",
    "\n",
    "The null values are going to be filled in to match the number of bedrooms."
   ]
  },
  {
   "cell_type": "code",
   "execution_count": 26,
   "metadata": {},
   "outputs": [
    {
     "data": {
      "text/plain": [
       "array(['1 bath', '1 shared bath', '2 baths', '1 private bath',\n",
       "       '1.5 shared baths', '1.5 baths', '0 shared baths', nan,\n",
       "       '2.5 shared baths', '2 shared baths', '2.5 baths',\n",
       "       'Shared half-bath', '4 baths', '3 baths', '0 baths',\n",
       "       '3 shared baths', '3.5 baths', 'Half-bath', '5 baths', '4.5 baths',\n",
       "       '5 shared baths', '3.5 shared baths', 'Private half-bath',\n",
       "       '7 baths', '4 shared baths', '6 shared baths', '6 baths',\n",
       "       '5.5 baths', '10 baths', '8.5 baths', '7 shared baths',\n",
       "       '6.5 baths', '8 shared baths', '17 baths', '7.5 baths', '8 baths',\n",
       "       '10.5 baths', '4.5 shared baths', '12 baths', '9 baths',\n",
       "       '9 shared baths', '6.5 shared baths', '10 shared baths',\n",
       "       '18 shared baths'], dtype=object)"
      ]
     },
     "execution_count": 26,
     "metadata": {},
     "output_type": "execute_result"
    }
   ],
   "source": [
    "df.bathrooms.unique()"
   ]
  },
  {
   "cell_type": "code",
   "execution_count": 27,
   "metadata": {},
   "outputs": [],
   "source": [
    "# function to check if string value is numeric\n",
    "\n",
    "def is_number(x):\n",
    "    try:\n",
    "        float(x)\n",
    "        return True\n",
    "    except ValueError:\n",
    "        return False\n",
    "\n",
    "# function to convert bathrooms values in to floats and null values in to corresponding bedroom values\n",
    "\n",
    "def bathroom_cleaner(row):\n",
    "    if is_number(row['bathrooms']):\n",
    "        return row['bedrooms']\n",
    "    else:\n",
    "        split = row['bathrooms'].lower().split()\n",
    "        if 'shared' in split:\n",
    "            return 1\n",
    "        elif is_number(split[0]):\n",
    "            return float(split[0])\n",
    "        elif 'half-bath' in split:\n",
    "            return float(0.5)\n",
    "        else:\n",
    "            return float(row['bathrooms'])\n",
    "\n",
    "df['bathrooms'] = df.apply(bathroom_cleaner, axis=1)"
   ]
  },
  {
   "cell_type": "code",
   "execution_count": 28,
   "metadata": {},
   "outputs": [
    {
     "data": {
      "text/plain": [
       "array([ 1. ,  2. ,  1.5,  2.5,  4. ,  3. ,  0. ,  3.5,  0.5,  5. ,  4.5,\n",
       "        7. ,  6. ,  5.5, 10. ,  8.5,  6.5, 17. ,  7.5,  8. , 10.5, 12. ,\n",
       "        9. ])"
      ]
     },
     "execution_count": 28,
     "metadata": {},
     "output_type": "execute_result"
    }
   ],
   "source": [
    "df.bathrooms.unique()"
   ]
  },
  {
   "cell_type": "markdown",
   "metadata": {},
   "source": [
    "The 0 values in the bathrooms column will be filled with the median for the column."
   ]
  },
  {
   "cell_type": "code",
   "execution_count": 29,
   "metadata": {},
   "outputs": [],
   "source": [
    "df.loc[df.bathrooms==0,'bathrooms'] = df.bathrooms.median()"
   ]
  },
  {
   "cell_type": "markdown",
   "metadata": {},
   "source": [
    "### Re-checking for null values\n",
    "\n",
    "No more columns with null values!"
   ]
  },
  {
   "cell_type": "code",
   "execution_count": 30,
   "metadata": {},
   "outputs": [
    {
     "data": {
      "text/html": [
       "<div>\n",
       "<style scoped>\n",
       "    .dataframe tbody tr th:only-of-type {\n",
       "        vertical-align: middle;\n",
       "    }\n",
       "\n",
       "    .dataframe tbody tr th {\n",
       "        vertical-align: top;\n",
       "    }\n",
       "\n",
       "    .dataframe thead th {\n",
       "        text-align: right;\n",
       "    }\n",
       "</style>\n",
       "<table border=\"1\" class=\"dataframe\">\n",
       "  <thead>\n",
       "    <tr style=\"text-align: right;\">\n",
       "      <th></th>\n",
       "      <th>0</th>\n",
       "    </tr>\n",
       "  </thead>\n",
       "  <tbody>\n",
       "  </tbody>\n",
       "</table>\n",
       "</div>"
      ],
      "text/plain": [
       "Empty DataFrame\n",
       "Columns: [0]\n",
       "Index: []"
      ]
     },
     "execution_count": 30,
     "metadata": {},
     "output_type": "execute_result"
    }
   ],
   "source": [
    "null_values = pd.DataFrame(df.isnull().sum())\n",
    "null_values = null_values[null_values[0] != 0]\n",
    "null_values"
   ]
  },
  {
   "cell_type": "markdown",
   "metadata": {},
   "source": [
    "## Dealing with columns on an individual basis"
   ]
  },
  {
   "cell_type": "markdown",
   "metadata": {},
   "source": [
    "### Property type\n",
    "\n",
    "At the moment the property type column contains too many variables, some with very few values. I don't think that this level of detail is necessary at all for my model. \n",
    "\n",
    "As the list below shows, the vast majority of properties are either an apartment or a house. Although there are quite a few edge categories (villa, boat, castle etc.), the number of these properties is tiny and won't make much of an effect when it comes to modelling."
   ]
  },
  {
   "cell_type": "code",
   "execution_count": 31,
   "metadata": {
    "scrolled": true
   },
   "outputs": [
    {
     "data": {
      "text/plain": [
       "Entire apartment                      29327\n",
       "Private room in apartment             16955\n",
       "Private room in house                 10401\n",
       "Entire house                           5284\n",
       "Entire condominium                     2335\n",
       "Private room in townhouse              1459\n",
       "Entire serviced apartment               966\n",
       "Entire townhouse                        963\n",
       "Private room in condominium             902\n",
       "Private room in bed and breakfast       632\n",
       "Room in hotel                           504\n",
       "Room in boutique hotel                  470\n",
       "Entire loft                             418\n",
       "Shared room in apartment                278\n",
       "Private room in loft                    233\n",
       "Room in serviced apartment              211\n",
       "Entire guest suite                      188\n",
       "Private room in guest suite             170\n",
       "Private room in guesthouse              165\n",
       "Entire guesthouse                       128\n",
       "Room in aparthotel                      117\n",
       "Shared room in house                    113\n",
       "Private room                            102\n",
       "Private room in bungalow                 93\n",
       "Shared room in hostel                    90\n",
       "Room in hostel                           84\n",
       "Private room in serviced apartment       83\n",
       "Room in bed and breakfast                59\n",
       "Boat                                     56\n",
       "Private room in hostel                   55\n",
       "Entire cottage                           54\n",
       "Entire bungalow                          40\n",
       "Tiny house                               37\n",
       "Entire villa                             28\n",
       "Private room in cottage                  28\n",
       "Entire place                             27\n",
       "Private room in tiny house               25\n",
       "Private room in casa particular          22\n",
       "Houseboat                                18\n",
       "Shared room in bed and breakfast         18\n",
       "Private room in villa                    14\n",
       "Private room in earth house              14\n",
       "Entire cabin                             14\n",
       "Camper/RV                                12\n",
       "Private room in houseboat                11\n",
       "Shared room in condominium               11\n",
       "Shared room in townhouse                 11\n",
       "Entire home/apt                          10\n",
       "Private room in boat                      9\n",
       "Entire chalet                             7\n",
       "Name: property_type, dtype: int64"
      ]
     },
     "execution_count": 31,
     "metadata": {},
     "output_type": "execute_result"
    }
   ],
   "source": [
    "df.property_type.value_counts().head(50)"
   ]
  },
  {
   "cell_type": "markdown",
   "metadata": {},
   "source": [
    "To begin with, I'm going to separate properties in to a wide number of different categories."
   ]
  },
  {
   "cell_type": "code",
   "execution_count": 32,
   "metadata": {},
   "outputs": [],
   "source": [
    "# new property type categories\n",
    "\n",
    "property_categories = ['apartment', 'house', 'townhouse', 'condominium',\n",
    "                       'hotel', 'boutique hotel', 'bed and breakfast', 'loft',\n",
    "                       'guest suite', 'guesthouse', 'private room', 'aparthotel',\n",
    "                      'bungalow', 'hostel', 'boat', 'cottage', 'bungalow', 'villa', 'houseboat', 'other']\n",
    "\n",
    "# function to sort the property column in to new categories\n",
    "\n",
    "def property_simplifier(x):\n",
    "    split = x.lower().split()\n",
    "    if (' ').join(split[-3:]) in property_categories:\n",
    "        return (' ').join(split[-3:])\n",
    "    elif (' ').join(split[-2:]) in property_categories:\n",
    "        return (' ').join(split[-2:])\n",
    "    elif split[-1]=='houseboat':\n",
    "        return 'boat'\n",
    "    elif split[-1] in property_categories:\n",
    "        return split[-1]\n",
    "    else:\n",
    "        return 'other'\n",
    "    \n",
    "# apply function to property_type column\n",
    "\n",
    "property_type_simplified = df.property_type.apply(property_simplifier)"
   ]
  },
  {
   "cell_type": "markdown",
   "metadata": {},
   "source": [
    "Now that the properies have been categorised, I'm going to split them in to 'house' and 'apartment' values."
   ]
  },
  {
   "cell_type": "code",
   "execution_count": 33,
   "metadata": {},
   "outputs": [],
   "source": [
    "apartment_cats = ['apartment', 'condominium', 'loft', 'guest suite', 'private room',\n",
    "                  'hotel', 'boutique hotel', 'bed and breakfast', 'guest suite',\n",
    "                  'aparthotel', 'hostel']\n",
    "\n",
    "df['property_type_basic'] = property_type_simplified.apply(lambda x: \"apartment\" if x in apartment_cats else \"house\")"
   ]
  },
  {
   "cell_type": "markdown",
   "metadata": {},
   "source": [
    "As we can see, there are a lot more apartment properties than houses."
   ]
  },
  {
   "cell_type": "code",
   "execution_count": 34,
   "metadata": {
    "scrolled": false
   },
   "outputs": [
    {
     "data": {
      "text/plain": [
       "apartment    54224\n",
       "house        19140\n",
       "Name: property_type_basic, dtype: int64"
      ]
     },
     "execution_count": 34,
     "metadata": {},
     "output_type": "execute_result"
    }
   ],
   "source": [
    "df.property_type_basic.value_counts()"
   ]
  },
  {
   "cell_type": "markdown",
   "metadata": {},
   "source": [
    "### Amenities\n",
    "\n",
    "The amenities column currently contains a list of every amenity that each property has. The Airbnb website allows hosts to choose from a pre-set amenity ( e.g. 'TV', 'Hair dryer', 'Kitchen' etc.) or a create a custom one. As a result of the custom option, some of the amenities are slightly untidy (there are a lot of variations on HDTV depending on the screen size!). \n",
    "\n",
    "Below is an example of a property's amenities list."
   ]
  },
  {
   "cell_type": "code",
   "execution_count": 35,
   "metadata": {},
   "outputs": [
    {
     "data": {
      "text/plain": [
       "'[\"Hot water\", \"Hair dryer\", \"Smoke alarm\", \"Fire extinguisher\", \"Oven\", \"Carbon monoxide alarm\", \"Kitchen\", \"Washer\", \"Crib\", \"Coffee maker\", \"Cooking basics\", \"Microwave\", \"Lockbox\", \"Heating\", \"TV with standard cable\", \"High chair\", \"Iron\", \"Dishes and silverware\", \"Essentials\", \"Stove\", \"Long term stays allowed\", \"Pack \\\\u2019n Play/travel crib\", \"Dedicated workspace\", \"Cable TV\", \"Refrigerator\", \"Hangers\", \"Wifi\", \"Paid parking off premises\"]'"
      ]
     },
     "execution_count": 35,
     "metadata": {},
     "output_type": "execute_result"
    }
   ],
   "source": [
    "df.amenities[0]"
   ]
  },
  {
   "cell_type": "code",
   "execution_count": 36,
   "metadata": {},
   "outputs": [],
   "source": [
    "# creating a dictionary to store which amenities each property has\n",
    "\n",
    "amenities_values = []\n",
    "\n",
    "for amenities_list in df.amenities:\n",
    "    if eval(amenities_list) != None:\n",
    "        lst = eval(amenities_list)\n",
    "        for value in lst:\n",
    "            if value not in amenities_values:\n",
    "                amenities_values.append(value)\n",
    "            \n",
    "amenities_dict = {}\n",
    "\n",
    "for value in amenities_values:\n",
    "    amenities_dict[value] = []    \n",
    "    \n",
    "for amenities_list in df.amenities:\n",
    "    if eval(amenities_list) != None:\n",
    "        lst = eval(amenities_list)\n",
    "        for key in amenities_dict.keys():\n",
    "            if key in lst:\n",
    "                amenities_dict[key].append(1)\n",
    "            else:\n",
    "                amenities_dict[key].append(0)\n",
    "    else:\n",
    "        for key in amenities_dict.keys():\n",
    "            amenities_dict[key].append(0)"
   ]
  },
  {
   "cell_type": "code",
   "execution_count": 37,
   "metadata": {
    "scrolled": true
   },
   "outputs": [],
   "source": [
    "# creating another dictionary to count how many times each amenity appears in the dataset\n",
    "\n",
    "amenities_count_dict = {}\n",
    "\n",
    "for key in amenities_dict.keys():\n",
    "    amenities_count_dict[key] = sum(amenities_dict[key])"
   ]
  },
  {
   "cell_type": "code",
   "execution_count": 38,
   "metadata": {
    "scrolled": true
   },
   "outputs": [
    {
     "data": {
      "text/plain": [
       "[('Air conditioning', 5455),\n",
       " ('BBQ grill', 2735),\n",
       " ('Baby bath', 766),\n",
       " ('Baby safety gates', 556),\n",
       " ('Babysitter recommendations', 1489),\n",
       " ('Backyard', 10537),\n",
       " ('Baking sheet', 2053),\n",
       " ('Barbecue utensils', 809),\n",
       " ('Bathtub', 8541),\n",
       " ('Bed linens', 26834),\n",
       " ('Body soap', 3289),\n",
       " ('Breakfast', 9483),\n",
       " ('Building staff', 1702),\n",
       " ('Cable TV', 10680),\n",
       " ('Carbon monoxide alarm', 42496),\n",
       " ('Central heating', 849),\n",
       " ('Changing table', 642),\n",
       " ('Children’s books and toys', 2844),\n",
       " ('Children’s dinnerware', 1512),\n",
       " ('Cleaning before checkout', 2320),\n",
       " ('Cleaning products', 3061),\n",
       " ('Clothing storage', 1272),\n",
       " ('Clothing storage: closet', 691),\n",
       " ('Coffee maker', 16507),\n",
       " ('Conditioner', 2348),\n",
       " ('Cooking basics', 29038),\n",
       " ('Crib', 3578),\n",
       " ('Dedicated workspace', 43863),\n",
       " ('Dining table', 2877),\n",
       " ('Dishes and silverware', 30444),\n",
       " ('Dishwasher', 17529),\n",
       " ('Dryer', 31190),\n",
       " ('Drying rack for clothing', 2248),\n",
       " ('Elevator', 14705),\n",
       " ('Essentials', 66676),\n",
       " ('Ethernet connection', 3164),\n",
       " ('Extra pillows and blankets', 12884),\n",
       " ('Fire extinguisher', 22957),\n",
       " ('First aid kit', 22890),\n",
       " ('Free parking on premises', 14571),\n",
       " ('Free street parking', 7982),\n",
       " ('Freezer', 4302),\n",
       " ('Game console', 826),\n",
       " ('Gym', 2725),\n",
       " ('Hair dryer', 48299),\n",
       " ('Hangers', 56227),\n",
       " ('Heating', 67678),\n",
       " ('High chair', 3457),\n",
       " ('Host greets you', 11446),\n",
       " ('Hot tub', 2852),\n",
       " ('Hot water', 42232),\n",
       " ('Hot water kettle', 4331),\n",
       " ('Indoor fireplace', 5791),\n",
       " ('Iron', 54028),\n",
       " ('Keypad', 1136),\n",
       " ('Kitchen', 66090),\n",
       " ('Laundromat nearby', 1757),\n",
       " ('Lock on bedroom door', 12498),\n",
       " ('Lockbox', 8691),\n",
       " ('Long term stays allowed', 60636),\n",
       " ('Luggage dropoff allowed', 10761),\n",
       " ('Microwave', 26233),\n",
       " ('Mini fridge', 1026),\n",
       " ('Nespresso machine', 1038),\n",
       " ('Outdoor dining area', 817),\n",
       " ('Outdoor furniture', 1611),\n",
       " ('Oven', 27034),\n",
       " ('Pack ’n Play/travel crib', 3240),\n",
       " ('Paid parking off premises', 8850),\n",
       " ('Paid parking on premises', 2966),\n",
       " ('Paid street parking off premises', 594),\n",
       " ('Patio or balcony', 10742),\n",
       " ('Pocket wifi', 864),\n",
       " ('Portable fans', 2116),\n",
       " ('Pour-over coffee', 598),\n",
       " ('Private entrance', 17647),\n",
       " ('Refrigerator', 30820),\n",
       " ('Room-darkening shades', 3960),\n",
       " ('Safe', 580),\n",
       " ('Security cameras on property', 4164),\n",
       " ('Shampoo', 46420),\n",
       " ('Shower gel', 6902),\n",
       " ('Single level home', 4355),\n",
       " ('Smart lock', 829),\n",
       " ('Smoke alarm', 62238),\n",
       " ('Stove', 24018),\n",
       " ('TV', 38519),\n",
       " ('TV with standard cable', 10497),\n",
       " ('Toaster', 3105),\n",
       " ('Washer', 60385),\n",
       " ('Waterfront', 667),\n",
       " ('Wifi', 69830),\n",
       " ('Window guards', 726),\n",
       " ('Wine glasses', 2689)]"
      ]
     },
     "execution_count": 38,
     "metadata": {},
     "output_type": "execute_result"
    }
   ],
   "source": [
    "# creating a dictionary to show which amenities appear 500 times or more\n",
    "\n",
    "over_500 = {}\n",
    "\n",
    "for item in amenities_count_dict.keys():\n",
    "    if amenities_count_dict[item] >= 500:\n",
    "        over_500[item] = amenities_count_dict[item]\n",
    "\n",
    "sorted(over_500.items())"
   ]
  },
  {
   "cell_type": "markdown",
   "metadata": {},
   "source": [
    "Having looked through the list of amenities above, I've now created a list of categories that I'm hoping have an effect on the price of a property.\n",
    "\n",
    "For each category, I'm going to a create a column in my dataset and use binary values to record whether each property has that amenity or category of amenities."
   ]
  },
  {
   "cell_type": "code",
   "execution_count": 39,
   "metadata": {},
   "outputs": [],
   "source": [
    "amenities_cats_dict = {'air_conditioning': 'air conditioning', \n",
    "                       'bbq': 'bbq',\n",
    "                       'baby_facilities': 'baby|crib|changing table|high chair', \n",
    "                       'balcony_or_patio': 'patio|balcony',\n",
    "                       'bath': 'bathtub|bath', \n",
    "                       'bed_linen': 'bed linens', \n",
    "                       'cable_tv': 'cable',\n",
    "                       'child_friendly': 'children', \n",
    "                       'coffee_maker': 'coffee|nespresso', \n",
    "                       'cooking_facilities': 'oven|stove|refrigerator|fridge|freezer',\n",
    "                       'dishwasher': 'dishwasher', \n",
    "                       'garden': 'backyard|garden', \n",
    "                       'has_workspace': 'workspace', \n",
    "                       'host_greets_you': 'host greets you',\n",
    "                       'long_term_stays': 'long term stays allowed',\n",
    "                       'luggage_dropoff': 'luggage dropoff', \n",
    "                       'lock_on_bedroom_door': 'lock on bedroom',\n",
    "                       'luxury_facilities': 'gym|pool|sauna', \n",
    "                       'private_entrance': 'private entrance',\n",
    "                       'toiletries': 'soap|conditioner|shampoo|shower gel', \n",
    "                       'tumble_dryer': 'Dryer',\n",
    "                       'tv': 'tv'}\n",
    "\n",
    "for category in amenities_cats_dict.keys():\n",
    "    if category == 'tumble_dryer':\n",
    "        df.loc[df['amenities'].str.contains(amenities_cats_dict[category], case = True), category] = 1\n",
    "        df.loc[~df['amenities'].str.contains(amenities_cats_dict[category], case = True), category] = 0\n",
    "        df[category] = df[category].astype('int')\n",
    "    else:    \n",
    "        df.loc[df['amenities'].str.contains(amenities_cats_dict[category], case = False), category] = 1\n",
    "        df.loc[~df['amenities'].str.contains(amenities_cats_dict[category], case = False), category] = 0\n",
    "        df[category] = df[category].astype('int')"
   ]
  },
  {
   "cell_type": "markdown",
   "metadata": {},
   "source": [
    "### Accommodates\n",
    "\n",
    "There are some properties with a value of 0 for accommodates. I'm going to fill these in with the median value for the column."
   ]
  },
  {
   "cell_type": "code",
   "execution_count": 40,
   "metadata": {},
   "outputs": [],
   "source": [
    "df.loc[df.accommodates==0, 'accommodates'] = df.accommodates.median()"
   ]
  },
  {
   "cell_type": "markdown",
   "metadata": {},
   "source": [
    "### Price"
   ]
  },
  {
   "cell_type": "markdown",
   "metadata": {},
   "source": [
    "The first thing I'm going to do with the price column is convert the format of its values in to floats. At the moment, they are stored as text objects with '$' preceding the price and '.00' afterwards. I've included some examples below."
   ]
  },
  {
   "cell_type": "code",
   "execution_count": 41,
   "metadata": {},
   "outputs": [
    {
     "data": {
      "text/plain": [
       "0     $99.00\n",
       "1     $65.00\n",
       "2     $75.00\n",
       "3    $307.00\n",
       "4    $150.00\n",
       "Name: price, dtype: object"
      ]
     },
     "execution_count": 41,
     "metadata": {},
     "output_type": "execute_result"
    }
   ],
   "source": [
    "df.price.head()"
   ]
  },
  {
   "cell_type": "code",
   "execution_count": 42,
   "metadata": {},
   "outputs": [],
   "source": [
    "df['price'] = df.price.str.replace('$','').str.replace('.00','').str.replace(',','').replace('',0).astype('float')"
   ]
  },
  {
   "cell_type": "markdown",
   "metadata": {},
   "source": [
    "If we have a quick glance at the sorted values for price, we can see that at both ends there are some strange values. There obviously aren't going to be any Airbnb properties that are free to stay and, conversely, it feels very unlikely that there are any properties that cost thousands of pounds per night to stay at."
   ]
  },
  {
   "cell_type": "code",
   "execution_count": 43,
   "metadata": {},
   "outputs": [
    {
     "data": {
      "text/plain": [
       "41650        0.0\n",
       "4017         0.0\n",
       "26678        0.0\n",
       "9860         0.0\n",
       "68315        0.0\n",
       "          ...   \n",
       "43031    15986.0\n",
       "47204    15986.0\n",
       "47214    15986.0\n",
       "28354    17762.0\n",
       "30601    17786.0\n",
       "Name: price, Length: 73364, dtype: float64"
      ]
     },
     "execution_count": 43,
     "metadata": {},
     "output_type": "execute_result"
    }
   ],
   "source": [
    "df.price.sort_values()"
   ]
  },
  {
   "cell_type": "markdown",
   "metadata": {},
   "source": [
    "Let's have a look at the price column within some visualisations to get an idea of how many properties have this extreme price values."
   ]
  },
  {
   "cell_type": "code",
   "execution_count": 44,
   "metadata": {
    "scrolled": true
   },
   "outputs": [
    {
     "data": {
      "image/png": "[encoded data removed]",
      "text/plain": [
       "<Figure size 1440x360 with 1 Axes>"
      ]
     },
     "metadata": {
      "needs_background": "light"
     },
     "output_type": "display_data"
    }
   ],
   "source": [
    "fig,ax = plt.subplots(figsize=(20,5))\n",
    "\n",
    "plt.hist(df.price, bins=100)\n",
    "\n",
    "plt.xlabel('Price')\n",
    "plt.ylabel('Number of Properties')\n",
    "\n",
    "plt.margins(x=0)\n",
    "plt.show()"
   ]
  },
  {
   "cell_type": "markdown",
   "metadata": {},
   "source": [
    "As the histogram above shows, the majority of our properties seem to be priced at around £1000 per night. There are some massive outliers, however, that are extending the graph horizontally with massively high prices. These extremely high prices are perhaps visualised better in the violinplot and rather squashed boxplot below."
   ]
  },
  {
   "cell_type": "code",
   "execution_count": 45,
   "metadata": {},
   "outputs": [
    {
     "data": {
      "image/png": "[encoded data removed]",
      "text/plain": [
       "<Figure size 1440x720 with 2 Axes>"
      ]
     },
     "metadata": {
      "needs_background": "light"
     },
     "output_type": "display_data"
    }
   ],
   "source": [
    "fig,ax = plt.subplots(nrows=2, figsize=(20,10), sharex=True)\n",
    "\n",
    "sns.violinplot(data=df.price,orient='h',ax=ax[0])\n",
    "sns.boxplot(data=df.price,orient='h',ax=ax[1])\n",
    "\n",
    "ax[0].margins(x=0)\n",
    "ax[1].margins(x=0)\n",
    "\n",
    "plt.xlabel('Price')\n",
    "\n",
    "plt.show()"
   ]
  },
  {
   "cell_type": "markdown",
   "metadata": {},
   "source": [
    "One of the issues with this dataset is that it only contains the advertised price rather than the price actually paid by guests. As a result, some of these prices won't actually reflect the reality of what guests are willing to pay for them. Although there are a very small number of luxury Airbnb properties that can charge thousands of pounds per night, the properties in this dataset that have very high prices in no way warrant such an extraordinarily high cost.\n",
    "\n",
    "My assumption is on one of the following:\n",
    "\n",
    "- the hosts have priced the properties highly as they don't want guests to stay. By giving the properties a high price they aren't going to turn up in their searches. Perhaps this is easier for hosts to do than temporarily delist their properties?\n",
    "- the prices have been entered by mistake. This seems less likely to me given the number of properties with a high or non-existent price, but it is possible given that the hosts are free to choose any price they want.\n",
    "\n",
    "Let's have a look at the properties priced at under £2000 to get an idea of how the majority of the property prices are distributed."
   ]
  },
  {
   "cell_type": "code",
   "execution_count": 46,
   "metadata": {
    "scrolled": true
   },
   "outputs": [
    {
     "data": {
      "image/png": "[encoded data removed]",
      "text/plain": [
       "<Figure size 1440x360 with 1 Axes>"
      ]
     },
     "metadata": {
      "needs_background": "light"
     },
     "output_type": "display_data"
    }
   ],
   "source": [
    "fig,ax = plt.subplots(figsize=(20,5))\n",
    "\n",
    "plt.hist(df.price, bins=100, range=(0,2000))\n",
    "\n",
    "plt.xlabel('Price')\n",
    "plt.ylabel('Number of Properties')\n",
    "\n",
    "plt.margins(x=0)\n",
    "\n",
    "plt.axvline(1000, color='red', linestyle='--')\n",
    "plt.show()"
   ]
  },
  {
   "cell_type": "markdown",
   "metadata": {},
   "source": [
    "As the visualisation shows, the majority of properties seem to fall within the £1000 mark. In order to resolve the issue of properties with extremely inflated prices, I'm going to make the assumption that these properties are incorrectly priced and use £1000 as the max price for an Airbnb property in London. For properties that have very low prices, I'm going to set £20 as the min price. \n",
    "\n",
    "Like many similar solutions, this is imperfect and has its drawbacks. The main drawback is that there will be properties that legitimately cost more than £1000 and my model won't be able to predict their prices. I would argue, however, that this solution is for the greater good of the performance of the model given that properties priced so highly will be very rare."
   ]
  },
  {
   "cell_type": "code",
   "execution_count": 47,
   "metadata": {},
   "outputs": [],
   "source": [
    "# converting property prices lower than 20 to 20\n",
    "\n",
    "df.loc[df.price < 20, 'price'] = 20\n",
    "\n",
    "# converting property prices higher than 1000 to 1000\n",
    "\n",
    "df.loc[df.price > 1000, 'price'] = 1000"
   ]
  },
  {
   "cell_type": "markdown",
   "metadata": {},
   "source": [
    "Although there is now an unnatural group of properties that are priced at the £1000 mark, the price distribution overall looks more like one would expect it to look. This will be covered in slightly more detail during the EDA part of the project."
   ]
  },
  {
   "cell_type": "code",
   "execution_count": 48,
   "metadata": {},
   "outputs": [
    {
     "data": {
      "image/png": "[encoded data removed]",
      "text/plain": [
       "<Figure size 1440x360 with 1 Axes>"
      ]
     },
     "metadata": {
      "needs_background": "light"
     },
     "output_type": "display_data"
    }
   ],
   "source": [
    "fig,ax = plt.subplots(figsize=(20,5))\n",
    "\n",
    "plt.hist(df.price, bins=100)\n",
    "plt.margins(x=0)\n",
    "\n",
    "plt.xlabel('Price')\n",
    "plt.ylabel('Number of Properties')\n",
    "\n",
    "plt.show()"
   ]
  },
  {
   "cell_type": "markdown",
   "metadata": {},
   "source": [
    "# Feature Engineering\n",
    "\n",
    "Now to create some new features for our dataset! Hopefully these will improve the performance of the my model in determining how expensive a property should be.\n",
    "\n",
    "#### Distance from \"centre\" of London\n",
    "\n",
    "Under the assumption that most tourists in London would ideally want to be as close to the centre as possible, I'm going to create a new variable showing how far away from the centre of London each property is. Since there is no official centre of London, I'm going to use Trafalgar Square given that it is fairly geographically central and close to lots of popular tourist attractions."
   ]
  },
  {
   "cell_type": "code",
   "execution_count": 51,
   "metadata": {},
   "outputs": [],
   "source": [
    "# creating a variable to store the latitude and longitude values for Trafalgar Square\n",
    "\n",
    "trafalgar_square = (51.5081073456795, -0.12808345704873553)"
   ]
  },
  {
   "cell_type": "code",
   "execution_count": 52,
   "metadata": {},
   "outputs": [],
   "source": [
    "df['distance_from_center'] = df.apply(lambda row: geopy.distance.distance((row['latitude'],row['longitude']),trafalgar_square).km,axis=1)"
   ]
  },
  {
   "cell_type": "markdown",
   "metadata": {},
   "source": [
    "#### Nearest train station"
   ]
  },
  {
   "cell_type": "markdown",
   "metadata": {},
   "source": [
    "I'm also going to create a column showing how far the nearest train station is in km. This is being added under the assumption that if a property is a long way from a train station, then it is likely to be less desirable. "
   ]
  },
  {
   "cell_type": "code",
   "execution_count": 53,
   "metadata": {},
   "outputs": [],
   "source": [
    "stations = pd.read_csv('../data/csv_files/Stations_20180921.csv')"
   ]
  },
  {
   "cell_type": "markdown",
   "metadata": {},
   "source": [
    "Code to calculate the closest train station to each property and how far away it is in km."
   ]
  },
  {
   "cell_type": "code",
   "execution_count": 78,
   "metadata": {},
   "outputs": [],
   "source": [
    "def station_checker(lat,long):\n",
    "    station = ''\n",
    "    station_distance = 1000\n",
    "    for station_,lat_, long_ in zip(stations.NAME,stations.y,stations.x):\n",
    "        calculated_distance = geopy.distance.distance((lat,long),(lat_,long_)).km\n",
    "        if calculated_distance < station_distance:\n",
    "            station_distance = calculated_distance\n",
    "            station = station_\n",
    "    return station, station_distance"
   ]
  },
  {
   "cell_type": "markdown",
   "metadata": {},
   "source": [
    "Storing the results in a dictionary"
   ]
  },
  {
   "cell_type": "code",
   "execution_count": 79,
   "metadata": {},
   "outputs": [],
   "source": [
    "station_dict = {'index': [], 'nearest_station': [], 'station_distance': []}\n",
    "\n",
    "\n",
    "for i in df.index:\n",
    "    station_checker_result = station_checker(df.loc[i]['latitude'],df.loc[i]['longitude'])\n",
    "    station_dict['index'].append(i)\n",
    "    station_dict['nearest_station'].append(station_checker_result[0])\n",
    "    station_dict['station_distance'].append(station_checker_result[1])\n",
    "\n",
    "station_df = pd.DataFrame(station_dict)\n",
    "# station_df.to_csv('../data/station_df.csv')"
   ]
  },
  {
   "cell_type": "code",
   "execution_count": 55,
   "metadata": {},
   "outputs": [],
   "source": [
    "# creating a dataframe out of the station data\n",
    "\n",
    "station_df = pd.read_csv('../data/csv_files/station_df.csv',index_col=1)\n",
    "\n",
    "station_df.drop('Unnamed: 0',axis=1,inplace=True)"
   ]
  },
  {
   "cell_type": "code",
   "execution_count": 57,
   "metadata": {},
   "outputs": [],
   "source": [
    "# adding the series to our dataframe\n",
    "\n",
    "df['nearest_station'] = station_df.nearest_station\n",
    "df['station_distance'] = station_df.station_distance"
   ]
  },
  {
   "cell_type": "markdown",
   "metadata": {},
   "source": [
    "### Adding average rental price for the area"
   ]
  },
  {
   "cell_type": "markdown",
   "metadata": {},
   "source": [
    "Using data sourced from gov.uk (https://www.ons.gov.uk/peoplepopulationandcommunity/housing/adhocs/12871privaterentalmarketinlondonjanuarytodecember2020), I've also added the average rent prices for one-bedroom flats in the surrounding areas (to do this, I've used the post-code of each property's nearest train station) of each property. Providing a reference for how expensive it is to live in the area will hopefully equate to how Airbnb property prices. "
   ]
  },
  {
   "cell_type": "code",
   "execution_count": 58,
   "metadata": {},
   "outputs": [],
   "source": [
    "locator = geopy.geocoders.Nominatim(user_agent='myGeocoder',timeout=10)\n",
    "\n",
    "rgeocode = RateLimiter(locator.reverse, min_delay_seconds=0.001)"
   ]
  },
  {
   "cell_type": "code",
   "execution_count": 80,
   "metadata": {},
   "outputs": [],
   "source": [
    "# code to find out the postcode of each train station\n",
    "\n",
    "def postcode_generator(row):\n",
    "    co_ordinates = (row['y'],row['x'])\n",
    "    try:\n",
    "        location = rgeocode(co_ordinates)\n",
    "        postcode = location.raw['address']['postcode'].split()[0]\n",
    "        return postcode\n",
    "    except:\n",
    "        return \"error\"\n",
    "\n",
    "stations['postcode'] = stations.apply(postcode_generator,axis=1)\n",
    "\n",
    "# stations.to_csv('../data/stations_with_postcode.csv')"
   ]
  },
  {
   "cell_type": "code",
   "execution_count": 59,
   "metadata": {},
   "outputs": [],
   "source": [
    "stations = pd.read_csv('../data/csv_files/stations_with_postcode.csv',index_col=0)"
   ]
  },
  {
   "cell_type": "code",
   "execution_count": 61,
   "metadata": {},
   "outputs": [],
   "source": [
    "# preparing the stations dataframe for the join\n",
    "\n",
    "stations.rename(columns={'NAME': 'nearest_station'},inplace=True)\n",
    "\n",
    "stations.set_index('nearest_station',inplace=True)"
   ]
  },
  {
   "cell_type": "code",
   "execution_count": 67,
   "metadata": {},
   "outputs": [],
   "source": [
    "# joining the stations data with our dataframe\n",
    "\n",
    "df = df.join(stations, on='nearest_station', how='left')\n",
    "\n",
    "# removing the columns we don't need\n",
    "\n",
    "df.drop(['FID','OBJECTID','EASTING','NORTHING','x','y', 'LINES'],axis=1,inplace=True)\n",
    "\n",
    "df.rename({'NETWORK':'rail_network','Zone':'tfl_zone'},axis=1,inplace=True)"
   ]
  },
  {
   "cell_type": "code",
   "execution_count": 68,
   "metadata": {},
   "outputs": [],
   "source": [
    "# preparing the rental prices dataframe for the join\n",
    "\n",
    "rental_prices = pd.read_csv('../data/csv_files/londonrentalstatisticsq42020.csv')\n",
    "rental_prices['Mean'] = rental_prices.Mean.apply(lambda x: float(x.replace(',','')))\n",
    "\n",
    "rental_prices.set_index('Postcode District',inplace=True)\n",
    "rental_prices.drop('Bedroom Category',axis=1,inplace=True)\n",
    "rental_prices.rename(columns={'Mean': 'mean_monthly_rent'},inplace=True)"
   ]
  },
  {
   "cell_type": "code",
   "execution_count": 69,
   "metadata": {},
   "outputs": [],
   "source": [
    "df = df.join(rental_prices,on='postcode',how='left')"
   ]
  },
  {
   "cell_type": "markdown",
   "metadata": {},
   "source": [
    "Filling the null values in the mean rent column with the mean rent value for the neighbourhood of that property."
   ]
  },
  {
   "cell_type": "code",
   "execution_count": 70,
   "metadata": {},
   "outputs": [
    {
     "data": {
      "text/plain": [
       "5049"
      ]
     },
     "execution_count": 70,
     "metadata": {},
     "output_type": "execute_result"
    }
   ],
   "source": [
    "df.mean_monthly_rent.isna().sum()"
   ]
  },
  {
   "cell_type": "code",
   "execution_count": 71,
   "metadata": {},
   "outputs": [],
   "source": [
    "df['neighbourhood_mean_rent'] = df.groupby('neighbourhood')['mean_monthly_rent'].transform('mean')\n",
    "\n",
    "def rent_filler(row):\n",
    "    if np.isnan(row['mean_monthly_rent']):\n",
    "        return row['neighbourhood_mean_rent']\n",
    "    else:\n",
    "        return row['mean_monthly_rent']\n",
    "    \n",
    "df['mean_monthly_rent'] = df.apply(rent_filler,axis=1)\n",
    "\n",
    "df.drop('neighbourhood_mean_rent',axis=1, inplace=True)"
   ]
  },
  {
   "cell_type": "markdown",
   "metadata": {},
   "source": [
    "### Serviced properties\n",
    "\n",
    "Many of the properties are either hotels or offer a serviced option. This would include features such as cleaning, room service and a concierge. I've created a separate column to state whether a property is serviced or not."
   ]
  },
  {
   "cell_type": "code",
   "execution_count": 72,
   "metadata": {},
   "outputs": [],
   "source": [
    "def serviced_function(x):\n",
    "    serviced_prop_types_list = ['serviced', 'hotel', 'bed and breakfast', 'aparthotel', 'hostel']\n",
    "    if any([prop_type in x for prop_type in serviced_prop_types_list]):\n",
    "        return 1\n",
    "    else:\n",
    "        return 0\n",
    "    \n",
    "df['serviced_property'] = df.property_type.apply(serviced_function)"
   ]
  },
  {
   "cell_type": "markdown",
   "metadata": {},
   "source": [
    "### Do the listings have written content?\n",
    "\n",
    "Not all listings have written content in their listings, so I've added new columns to reflect this."
   ]
  },
  {
   "cell_type": "code",
   "execution_count": 73,
   "metadata": {},
   "outputs": [],
   "source": [
    "# creating new columns to show whether the properties have text variables such as description, host_about etc.\n",
    "\n",
    "df['description_provided'] = df.description.apply(lambda x: 0 if x == 'null' else 1)\n",
    "df['neighborhood_overview_provided'] = df.neighborhood_overview.apply(lambda x: 0 if x == 'null' else 1)\n",
    "df['host_about_provided'] = df.host_about.apply(lambda x: 0 if x == 'null' else 1)"
   ]
  },
  {
   "cell_type": "markdown",
   "metadata": {},
   "source": [
    "### Length of text content\n",
    "\n",
    "Adding columns to show how long property listings text pieces are."
   ]
  },
  {
   "cell_type": "code",
   "execution_count": 74,
   "metadata": {},
   "outputs": [],
   "source": [
    "nlp_columns = ['name', 'description', 'neighborhood_overview', 'host_about']\n",
    "\n",
    "def text_counter(text):\n",
    "    if text != 'null':\n",
    "        split = text.split()\n",
    "        return len(split)\n",
    "    else:\n",
    "        return 0\n",
    "\n",
    "for column in nlp_columns:\n",
    "    df[column+'_length'] = df[column].apply(text_counter)"
   ]
  },
  {
   "cell_type": "markdown",
   "metadata": {},
   "source": [
    "## Storing the completed dataframes\n",
    "\n",
    "I'm now going to store separate dataframes for visualisation and modelling using joblib."
   ]
  },
  {
   "cell_type": "code",
   "execution_count": 75,
   "metadata": {},
   "outputs": [
    {
     "data": {
      "text/plain": [
       "['../data/jlib_files/dataframes/complete_df_1_cleaning.jlib']"
      ]
     },
     "execution_count": 75,
     "metadata": {},
     "output_type": "execute_result"
    }
   ],
   "source": [
    "# saving the complete dataframe for visualisation purposes using joblib\n",
    "\n",
    "joblib.dump(df, '../data/jlib_files/dataframes/complete_df_1_cleaning.jlib')"
   ]
  },
  {
   "cell_type": "code",
   "execution_count": 76,
   "metadata": {},
   "outputs": [],
   "source": [
    "# creating a duplicate of the complete dataframe for modelling\n",
    "\n",
    "df_mod = df.copy()\n",
    "\n",
    "# dropping columns from dataframe\n",
    "\n",
    "columns_to_drop = ['id', 'listing_url', 'host_id', 'latitude', 'longitude', 'property_type', 'amenities']\n",
    "\n",
    "df_mod.drop(columns_to_drop, axis=1, inplace=True)"
   ]
  },
  {
   "cell_type": "code",
   "execution_count": 77,
   "metadata": {},
   "outputs": [
    {
     "data": {
      "text/plain": [
       "['../data/jlib_files/dataframes/modelling_df_1_cleaning.jlib']"
      ]
     },
     "execution_count": 77,
     "metadata": {},
     "output_type": "execute_result"
    }
   ],
   "source": [
    "# saving a dataframe that will be solely used for modelling using joblib\n",
    "\n",
    "joblib.dump(df_mod, '../data/jlib_files/dataframes/modelling_df_1_cleaning.jlib')"
   ]
  }
 ],
 "metadata": {
  "kernelspec": {
   "display_name": "Python 3",
   "language": "python",
   "name": "python3"
  },
  "language_info": {
   "codemirror_mode": {
    "name": "ipython",
    "version": 3
   },
   "file_extension": ".py",
   "mimetype": "text/x-python",
   "name": "python",
   "nbconvert_exporter": "python",
   "pygments_lexer": "ipython3",
   "version": "3.8.5"
  }
 },
 "nbformat": 4,
 "nbformat_minor": 4
}
