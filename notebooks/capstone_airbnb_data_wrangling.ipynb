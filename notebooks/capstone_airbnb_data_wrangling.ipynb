{
 "cells": [
  {
   "cell_type": "markdown",
   "metadata": {},
   "source": [
    "# Data Wrangling\n",
    "\n",
    "This notebook will contain all of the code used to clean the data within a Pandas dataframe and engineer new features."
   ]
  },
  {
   "cell_type": "code",
   "execution_count": 70,
   "metadata": {},
   "outputs": [],
   "source": [
    "import pandas as pd\n",
    "import geopy.distance\n",
    "from geopy.extra.rate_limiter import RateLimiter\n",
    "import numpy as np\n",
    "\n",
    "import matplotlib.pyplot as plt\n",
    "import seaborn as sns"
   ]
  },
  {
   "cell_type": "code",
   "execution_count": 71,
   "metadata": {},
   "outputs": [],
   "source": [
    "df = pd.read_csv(\"../data/listings.csv\")"
   ]
  },
  {
   "cell_type": "code",
   "execution_count": 72,
   "metadata": {},
   "outputs": [
    {
     "data": {
      "text/plain": [
       "(74840, 74)"
      ]
     },
     "execution_count": 72,
     "metadata": {},
     "output_type": "execute_result"
    }
   ],
   "source": [
    "df.shape"
   ]
  },
  {
   "cell_type": "markdown",
   "metadata": {},
   "source": [
    "## Data Cleaning"
   ]
  },
  {
   "cell_type": "markdown",
   "metadata": {},
   "source": [
    "List of all columns within the dataset"
   ]
  },
  {
   "cell_type": "code",
   "execution_count": 73,
   "metadata": {},
   "outputs": [
    {
     "data": {
      "text/plain": [
       "['id',\n",
       " 'listing_url',\n",
       " 'scrape_id',\n",
       " 'last_scraped',\n",
       " 'name',\n",
       " 'description',\n",
       " 'neighborhood_overview',\n",
       " 'picture_url',\n",
       " 'host_id',\n",
       " 'host_url',\n",
       " 'host_name',\n",
       " 'host_since',\n",
       " 'host_location',\n",
       " 'host_about',\n",
       " 'host_response_time',\n",
       " 'host_response_rate',\n",
       " 'host_acceptance_rate',\n",
       " 'host_is_superhost',\n",
       " 'host_thumbnail_url',\n",
       " 'host_picture_url',\n",
       " 'host_neighbourhood',\n",
       " 'host_listings_count',\n",
       " 'host_total_listings_count',\n",
       " 'host_verifications',\n",
       " 'host_has_profile_pic',\n",
       " 'host_identity_verified',\n",
       " 'neighbourhood',\n",
       " 'neighbourhood_cleansed',\n",
       " 'neighbourhood_group_cleansed',\n",
       " 'latitude',\n",
       " 'longitude',\n",
       " 'property_type',\n",
       " 'room_type',\n",
       " 'accommodates',\n",
       " 'bathrooms',\n",
       " 'bathrooms_text',\n",
       " 'bedrooms',\n",
       " 'beds',\n",
       " 'amenities',\n",
       " 'price',\n",
       " 'minimum_nights',\n",
       " 'maximum_nights',\n",
       " 'minimum_minimum_nights',\n",
       " 'maximum_minimum_nights',\n",
       " 'minimum_maximum_nights',\n",
       " 'maximum_maximum_nights',\n",
       " 'minimum_nights_avg_ntm',\n",
       " 'maximum_nights_avg_ntm',\n",
       " 'calendar_updated',\n",
       " 'has_availability',\n",
       " 'availability_30',\n",
       " 'availability_60',\n",
       " 'availability_90',\n",
       " 'availability_365',\n",
       " 'calendar_last_scraped',\n",
       " 'number_of_reviews',\n",
       " 'number_of_reviews_ltm',\n",
       " 'number_of_reviews_l30d',\n",
       " 'first_review',\n",
       " 'last_review',\n",
       " 'review_scores_rating',\n",
       " 'review_scores_accuracy',\n",
       " 'review_scores_cleanliness',\n",
       " 'review_scores_checkin',\n",
       " 'review_scores_communication',\n",
       " 'review_scores_location',\n",
       " 'review_scores_value',\n",
       " 'license',\n",
       " 'instant_bookable',\n",
       " 'calculated_host_listings_count',\n",
       " 'calculated_host_listings_count_entire_homes',\n",
       " 'calculated_host_listings_count_private_rooms',\n",
       " 'calculated_host_listings_count_shared_rooms',\n",
       " 'reviews_per_month']"
      ]
     },
     "execution_count": 73,
     "metadata": {},
     "output_type": "execute_result"
    }
   ],
   "source": [
    "list(df.columns)"
   ]
  },
  {
   "cell_type": "code",
   "execution_count": 74,
   "metadata": {},
   "outputs": [],
   "source": [
    "# dropping columns that are based on review data\n",
    "\n",
    "review_cols_drop = ['number_of_reviews', 'number_of_reviews_ltm', 'number_of_reviews_l30d',\n",
    "                    'first_review', 'last_review', 'review_scores_rating',\n",
    "                    'review_scores_accuracy', 'review_scores_cleanliness', 'review_scores_checkin',\n",
    "                    'review_scores_communication', 'review_scores_location',\n",
    "                    'review_scores_value', 'reviews_per_month']\n",
    "\n",
    "df.drop(review_cols_drop,axis=1,inplace=True)"
   ]
  },
  {
   "cell_type": "code",
   "execution_count": 75,
   "metadata": {},
   "outputs": [],
   "source": [
    "# dropping columns related to the host that I won't be using as features\n",
    "\n",
    "host_cols_drop = ['host_since', 'host_url', 'host_name', 'host_location',\n",
    "                  'host_thumbnail_url', 'host_picture_url', 'host_neighbourhood',\n",
    "                  'host_listings_count', 'host_total_listings_count', 'calculated_host_listings_count_entire_homes',\n",
    "                  'calculated_host_listings_count_private_rooms', 'calculated_host_listings_count_shared_rooms',]\n",
    "\n",
    "df.drop(host_cols_drop,axis=1,inplace=True)"
   ]
  },
  {
   "cell_type": "code",
   "execution_count": 76,
   "metadata": {},
   "outputs": [],
   "source": [
    "# dropping columns that can't or wouldn't be useful as predictor variables\n",
    "\n",
    "useless_cols_drop = ['scrape_id', 'last_scraped', 'picture_url', 'neighbourhood',\n",
    "                     'neighbourhood_group_cleansed', 'bathrooms', 'minimum_nights',\n",
    "                     'maximum_nights', 'minimum_minimum_nights', 'maximum_minimum_nights',\n",
    "                     'minimum_maximum_nights', 'maximum_maximum_nights', 'minimum_nights_avg_ntm',\n",
    "                     'maximum_nights_avg_ntm', 'calendar_updated', 'has_availability',\n",
    "                     'availability_30', 'availability_60', 'availability_90', 'availability_365',\n",
    "                     'calendar_last_scraped', 'license']\n",
    "\n",
    "df.drop(useless_cols_drop,axis=1,inplace=True)"
   ]
  },
  {
   "cell_type": "markdown",
   "metadata": {},
   "source": [
    "Let's have a look at the variables with missing values"
   ]
  },
  {
   "cell_type": "code",
   "execution_count": 77,
   "metadata": {},
   "outputs": [
    {
     "data": {
      "text/html": [
       "<div>\n",
       "<style scoped>\n",
       "    .dataframe tbody tr th:only-of-type {\n",
       "        vertical-align: middle;\n",
       "    }\n",
       "\n",
       "    .dataframe tbody tr th {\n",
       "        vertical-align: top;\n",
       "    }\n",
       "\n",
       "    .dataframe thead th {\n",
       "        text-align: right;\n",
       "    }\n",
       "</style>\n",
       "<table border=\"1\" class=\"dataframe\">\n",
       "  <thead>\n",
       "    <tr style=\"text-align: right;\">\n",
       "      <th></th>\n",
       "      <th>0</th>\n",
       "    </tr>\n",
       "  </thead>\n",
       "  <tbody>\n",
       "    <tr>\n",
       "      <th>name</th>\n",
       "      <td>23</td>\n",
       "    </tr>\n",
       "    <tr>\n",
       "      <th>description</th>\n",
       "      <td>3126</td>\n",
       "    </tr>\n",
       "    <tr>\n",
       "      <th>neighborhood_overview</th>\n",
       "      <td>29439</td>\n",
       "    </tr>\n",
       "    <tr>\n",
       "      <th>host_about</th>\n",
       "      <td>34283</td>\n",
       "    </tr>\n",
       "    <tr>\n",
       "      <th>host_response_time</th>\n",
       "      <td>41905</td>\n",
       "    </tr>\n",
       "    <tr>\n",
       "      <th>host_response_rate</th>\n",
       "      <td>41905</td>\n",
       "    </tr>\n",
       "    <tr>\n",
       "      <th>host_acceptance_rate</th>\n",
       "      <td>39343</td>\n",
       "    </tr>\n",
       "    <tr>\n",
       "      <th>host_is_superhost</th>\n",
       "      <td>1981</td>\n",
       "    </tr>\n",
       "    <tr>\n",
       "      <th>host_has_profile_pic</th>\n",
       "      <td>1981</td>\n",
       "    </tr>\n",
       "    <tr>\n",
       "      <th>host_identity_verified</th>\n",
       "      <td>1981</td>\n",
       "    </tr>\n",
       "    <tr>\n",
       "      <th>bathrooms_text</th>\n",
       "      <td>173</td>\n",
       "    </tr>\n",
       "    <tr>\n",
       "      <th>bedrooms</th>\n",
       "      <td>4677</td>\n",
       "    </tr>\n",
       "    <tr>\n",
       "      <th>beds</th>\n",
       "      <td>1192</td>\n",
       "    </tr>\n",
       "  </tbody>\n",
       "</table>\n",
       "</div>"
      ],
      "text/plain": [
       "                            0\n",
       "name                       23\n",
       "description              3126\n",
       "neighborhood_overview   29439\n",
       "host_about              34283\n",
       "host_response_time      41905\n",
       "host_response_rate      41905\n",
       "host_acceptance_rate    39343\n",
       "host_is_superhost        1981\n",
       "host_has_profile_pic     1981\n",
       "host_identity_verified   1981\n",
       "bathrooms_text            173\n",
       "bedrooms                 4677\n",
       "beds                     1192"
      ]
     },
     "execution_count": 77,
     "metadata": {},
     "output_type": "execute_result"
    }
   ],
   "source": [
    "null_values = pd.DataFrame(df.isnull().sum())\n",
    "null_values = null_values[null_values[0] != 0]\n",
    "null_values"
   ]
  },
  {
   "cell_type": "markdown",
   "metadata": {},
   "source": [
    "The following text variables all have blank values in their columns. I'm going to fill them in with the word 'null' to avoid having to remove these properties from dataset."
   ]
  },
  {
   "cell_type": "code",
   "execution_count": 78,
   "metadata": {},
   "outputs": [],
   "source": [
    "# filling the null values in the following columns rather than removing any rows\n",
    "\n",
    "df.name.fillna('null',inplace=True)\n",
    "df.description.fillna('null',inplace=True)\n",
    "df.neighborhood_overview.fillna('null',inplace=True)\n",
    "df.host_about.fillna('null',inplace=True)"
   ]
  },
  {
   "cell_type": "markdown",
   "metadata": {},
   "source": [
    "I've created a function to allow me to look at the distribution of values in each variable"
   ]
  },
  {
   "cell_type": "code",
   "execution_count": 79,
   "metadata": {},
   "outputs": [],
   "source": [
    "# function for analysing a variable\n",
    "\n",
    "def variable_viewer(x):\n",
    "    values = df[x].value_counts(sort=False)\n",
    "    proportion = df[x].value_counts(sort=False,normalize='all')\n",
    "    variable_df = pd.DataFrame({'value_counts': values, 'proportion': proportion})\n",
    "    return variable_df.sort_values('value_counts', ascending=False)"
   ]
  },
  {
   "cell_type": "markdown",
   "metadata": {},
   "source": [
    "### Creating new distance features using the long and lat variables"
   ]
  },
  {
   "cell_type": "markdown",
   "metadata": {},
   "source": [
    "#### Distance from \"centre\" of London"
   ]
  },
  {
   "cell_type": "markdown",
   "metadata": {},
   "source": [
    "Making an assertion that trafalgar square is the centre of London."
   ]
  },
  {
   "cell_type": "code",
   "execution_count": 80,
   "metadata": {},
   "outputs": [],
   "source": [
    "trafalgar_square = (51.504831314, -0.123499506)"
   ]
  },
  {
   "cell_type": "code",
   "execution_count": 81,
   "metadata": {},
   "outputs": [],
   "source": [
    "df['distance_from_center'] = df.apply(lambda row: geopy.distance.distance((row['latitude'],row['longitude']),trafalgar_square).km,axis=1)"
   ]
  },
  {
   "cell_type": "markdown",
   "metadata": {},
   "source": [
    "#### Nearest train station"
   ]
  },
  {
   "cell_type": "code",
   "execution_count": 82,
   "metadata": {},
   "outputs": [],
   "source": [
    "stations = pd.read_csv('../data/Stations_20180921.csv')"
   ]
  },
  {
   "cell_type": "markdown",
   "metadata": {},
   "source": [
    "Code to calculate the closest train station to each property and how far away it is in km."
   ]
  },
  {
   "cell_type": "code",
   "execution_count": 83,
   "metadata": {},
   "outputs": [],
   "source": [
    "# def station_checker(lat,long):\n",
    "#     station = ''\n",
    "#     station_distance = 1000\n",
    "#     for station_,lat_, long_ in zip(stations.NAME,stations.y,stations.x):\n",
    "#         calculated_distance = geopy.distance.distance((lat,long),(lat_,long_)).km\n",
    "#         if calculated_distance < station_distance:\n",
    "#             station_distance = calculated_distance\n",
    "#             station = station_\n",
    "#     return station, station_distance"
   ]
  },
  {
   "cell_type": "markdown",
   "metadata": {},
   "source": [
    "Storing the results in a dictionary"
   ]
  },
  {
   "cell_type": "code",
   "execution_count": 84,
   "metadata": {},
   "outputs": [],
   "source": [
    "# station_dict = {'index': [], 'nearest_station': [], 'station_distance': []}\n",
    "\n",
    "\n",
    "# for i in df.index:\n",
    "#     station_checker_result = station_checker(df.loc[i]['latitude'],df.loc[i]['longitude'])\n",
    "#     station_dict['index'].append(i)\n",
    "#     station_dict['nearest_station'].append(station_checker_result[0])\n",
    "#     station_dict['station_distance'].append(station_checker_result[1])\n",
    "\n",
    "# station_df = pd.DataFrame(station_dict)\n",
    "# station_df.to_csv('../data/station_df.csv')"
   ]
  },
  {
   "cell_type": "code",
   "execution_count": 85,
   "metadata": {},
   "outputs": [],
   "source": [
    "# creating a dataframe out of the station data\n",
    "\n",
    "station_df = pd.read_csv('../data/station_df.csv',index_col=1)\n",
    "\n",
    "station_df.drop('Unnamed: 0',axis=1,inplace=True)"
   ]
  },
  {
   "cell_type": "code",
   "execution_count": 86,
   "metadata": {},
   "outputs": [],
   "source": [
    "# adding the series to our dataframe\n",
    "\n",
    "df['nearest_station'] = station_df.nearest_station\n",
    "df['station_distance'] = station_df.station_distance"
   ]
  },
  {
   "cell_type": "markdown",
   "metadata": {},
   "source": [
    "### Adding average rental price for the area"
   ]
  },
  {
   "cell_type": "markdown",
   "metadata": {},
   "source": [
    "data sourced from https://www.ons.gov.uk/peoplepopulationandcommunity/housing/adhocs/12871privaterentalmarketinlondonjanuarytodecember2020"
   ]
  },
  {
   "cell_type": "code",
   "execution_count": 87,
   "metadata": {},
   "outputs": [],
   "source": [
    "locator = geopy.geocoders.Nominatim(user_agent='myGeocoder',timeout=10)\n",
    "\n",
    "rgeocode = RateLimiter(locator.reverse, min_delay_seconds=0.001)"
   ]
  },
  {
   "cell_type": "markdown",
   "metadata": {},
   "source": [
    "Code to find out the postcode of the property using the co-ordinates"
   ]
  },
  {
   "cell_type": "code",
   "execution_count": 88,
   "metadata": {},
   "outputs": [],
   "source": [
    "# def postcode_generator(row):\n",
    "#     co_ordinates = (row['y'],row['x'])\n",
    "#     try:\n",
    "#         location = rgeocode(co_ordinates)\n",
    "#         postcode = location.raw['address']['postcode'].split()[0]\n",
    "#         return postcode\n",
    "#     except:\n",
    "#         return \"error\"\n",
    "\n",
    "# stations['postcode'] = stations.apply(postcode_generator,axis=1)\n",
    "\n",
    "# stations.to_csv('../data/stations_with_postcode.csv')"
   ]
  },
  {
   "cell_type": "code",
   "execution_count": 89,
   "metadata": {},
   "outputs": [],
   "source": [
    "stations = pd.read_csv('../data/stations_with_postcode.csv',index_col=0)"
   ]
  },
  {
   "cell_type": "code",
   "execution_count": 90,
   "metadata": {},
   "outputs": [],
   "source": [
    "# preparing the stations dataframe for the join\n",
    "\n",
    "stations.rename(columns={'NAME': 'nearest_station'},inplace=True)\n",
    "\n",
    "stations.set_index('nearest_station',inplace=True)"
   ]
  },
  {
   "cell_type": "code",
   "execution_count": 91,
   "metadata": {},
   "outputs": [],
   "source": [
    "# joining the stations data with our dataframe\n",
    "\n",
    "df = df.join(stations, on='nearest_station', how='left')\n",
    "\n",
    "# removing the columns we don't need\n",
    "\n",
    "df.drop(['FID','OBJECTID','EASTING','NORTHING','x','y', 'LINES'],axis=1,inplace=True)\n",
    "\n",
    "df.rename({'NETWORK':'rail_network','Zone':'tfl_zone'},axis=1,inplace=True)"
   ]
  },
  {
   "cell_type": "code",
   "execution_count": 92,
   "metadata": {},
   "outputs": [],
   "source": [
    "# preparing the rental prices dataframe for the join\n",
    "\n",
    "rental_prices = pd.read_csv('../data/londonrentalstatisticsq42020.csv')\n",
    "rental_prices['Mean'] = rental_prices.Mean.apply(lambda x: float(x.replace(',','')))\n",
    "\n",
    "rental_prices.set_index('Postcode District',inplace=True)\n",
    "rental_prices.drop('Bedroom Category',axis=1,inplace=True)\n",
    "rental_prices.rename(columns={'Mean': 'mean_monthly_rent'},inplace=True)"
   ]
  },
  {
   "cell_type": "code",
   "execution_count": 93,
   "metadata": {},
   "outputs": [],
   "source": [
    "df = df.join(rental_prices,on='postcode',how='left')"
   ]
  },
  {
   "cell_type": "markdown",
   "metadata": {},
   "source": [
    "Filling the null values in the mean rent column"
   ]
  },
  {
   "cell_type": "code",
   "execution_count": 94,
   "metadata": {},
   "outputs": [],
   "source": [
    "def rent_filler(row):\n",
    "    if np.isnan(row['mean_monthly_rent']):\n",
    "        mean_neighbourhood_rent = df[df.neighbourhood_cleansed==row['neighbourhood_cleansed']]['mean_monthly_rent'].mean()\n",
    "        return mean_neighbourhood_rent\n",
    "    else:\n",
    "        return row['mean_monthly_rent']"
   ]
  },
  {
   "cell_type": "code",
   "execution_count": 95,
   "metadata": {
    "scrolled": true
   },
   "outputs": [],
   "source": [
    "df['mean_monthly_rent'] = df.apply(rent_filler,axis=1)"
   ]
  },
  {
   "cell_type": "markdown",
   "metadata": {},
   "source": [
    "### Removing dollar sign from the price variable"
   ]
  },
  {
   "cell_type": "code",
   "execution_count": 96,
   "metadata": {},
   "outputs": [],
   "source": [
    "# removing dollar sign from price column and transforming values in to floats\n",
    "\n",
    "df['price'] = df.price.apply(lambda x: float(x.replace('$','').replace('.00','').replace(',','')))"
   ]
  },
  {
   "cell_type": "markdown",
   "metadata": {},
   "source": [
    "Removing the properties with zero value for price from the dataframe. From looking at the Airbnb listings, these seem to be properties with zero availability. This is likely why Inside Airbnb were unable to scrape the data for them."
   ]
  },
  {
   "cell_type": "code",
   "execution_count": 97,
   "metadata": {},
   "outputs": [],
   "source": [
    "# # Removing the properties with a zero value for price\n",
    "\n",
    "# price_0 = df[df.price==0]\n",
    "\n",
    "# price_0.shape[0]"
   ]
  },
  {
   "cell_type": "code",
   "execution_count": 98,
   "metadata": {},
   "outputs": [],
   "source": [
    "# df.drop(price_0.index,axis=0,inplace=True)"
   ]
  },
  {
   "cell_type": "markdown",
   "metadata": {},
   "source": [
    "### Engineering the host response time column"
   ]
  },
  {
   "cell_type": "code",
   "execution_count": 99,
   "metadata": {},
   "outputs": [
    {
     "data": {
      "text/plain": [
       "Index(['id', 'listing_url', 'name', 'description', 'neighborhood_overview',\n",
       "       'host_id', 'host_about', 'host_response_time', 'host_response_rate',\n",
       "       'host_acceptance_rate', 'host_is_superhost', 'host_verifications',\n",
       "       'host_has_profile_pic', 'host_identity_verified',\n",
       "       'neighbourhood_cleansed', 'latitude', 'longitude', 'property_type',\n",
       "       'room_type', 'accommodates', 'bathrooms_text', 'bedrooms', 'beds',\n",
       "       'amenities', 'price', 'instant_bookable',\n",
       "       'calculated_host_listings_count', 'distance_from_center',\n",
       "       'nearest_station', 'station_distance', 'rail_network', 'tfl_zone',\n",
       "       'postcode', 'mean_monthly_rent'],\n",
       "      dtype='object')"
      ]
     },
     "execution_count": 99,
     "metadata": {},
     "output_type": "execute_result"
    }
   ],
   "source": [
    "df.columns"
   ]
  },
  {
   "cell_type": "code",
   "execution_count": 100,
   "metadata": {},
   "outputs": [
    {
     "data": {
      "text/plain": [
       "NaN                   0.559928\n",
       "within an hour        0.224506\n",
       "within a few hours    0.093560\n",
       "within a day          0.076951\n",
       "a few days or more    0.045056\n",
       "Name: host_response_time, dtype: float64"
      ]
     },
     "execution_count": 100,
     "metadata": {},
     "output_type": "execute_result"
    }
   ],
   "source": [
    "df.host_response_time.value_counts(normalize='all',dropna=False)"
   ]
  },
  {
   "cell_type": "code",
   "execution_count": 101,
   "metadata": {},
   "outputs": [],
   "source": [
    "df.host_response_time.fillna('unknown',inplace=True)"
   ]
  },
  {
   "cell_type": "code",
   "execution_count": 102,
   "metadata": {},
   "outputs": [
    {
     "data": {
      "text/plain": [
       "unknown               0.559928\n",
       "within an hour        0.224506\n",
       "within a few hours    0.093560\n",
       "within a day          0.076951\n",
       "a few days or more    0.045056\n",
       "Name: host_response_time, dtype: float64"
      ]
     },
     "execution_count": 102,
     "metadata": {},
     "output_type": "execute_result"
    }
   ],
   "source": [
    "df.host_response_time.value_counts(normalize='all',dropna=False)"
   ]
  },
  {
   "cell_type": "code",
   "execution_count": 103,
   "metadata": {},
   "outputs": [],
   "source": [
    "df['host_acceptance_rate'] = df.host_acceptance_rate.str.replace('%','').fillna(np.nan).astype('float')"
   ]
  },
  {
   "cell_type": "code",
   "execution_count": 104,
   "metadata": {},
   "outputs": [],
   "source": [
    "def host_filler(x):\n",
    "    if not np.isnan(x) and x >= 75:\n",
    "        return \"Above or equal to 75%\"\n",
    "    else:\n",
    "        return \"Below 75%\""
   ]
  },
  {
   "cell_type": "code",
   "execution_count": 105,
   "metadata": {},
   "outputs": [],
   "source": [
    "df['host_acceptance_rate'] = df.host_acceptance_rate.apply(host_filler)"
   ]
  },
  {
   "cell_type": "code",
   "execution_count": 106,
   "metadata": {},
   "outputs": [],
   "source": [
    "df['host_response_rate'] = df.host_response_rate.str.replace('%','').fillna(np.nan).astype('float')"
   ]
  },
  {
   "cell_type": "code",
   "execution_count": 107,
   "metadata": {},
   "outputs": [],
   "source": [
    "df['host_response_rate'] = df.host_response_rate.apply(host_filler)"
   ]
  },
  {
   "cell_type": "markdown",
   "metadata": {},
   "source": [
    "### Cleaning and filling the bathrooms_text variable"
   ]
  },
  {
   "cell_type": "code",
   "execution_count": 108,
   "metadata": {},
   "outputs": [],
   "source": [
    "# converting the bathrooms_text variable from text to a continuous variable\n",
    "\n",
    "# function to check if string value is numeric\n",
    "\n",
    "def is_number(x):\n",
    "    try:\n",
    "        float(x)\n",
    "        return True\n",
    "    except ValueError:\n",
    "        return False\n",
    "\n",
    "# function to convert bathrooms_text values\n",
    "\n",
    "def bathroom_cleaner(x):\n",
    "    try:\n",
    "        split = x.lower().split()\n",
    "        if is_number(split[0]):\n",
    "            return float(split[0])\n",
    "        elif 'half-bath' in split:\n",
    "            return float(0.5)\n",
    "        else:\n",
    "            return float(x)\n",
    "    except:\n",
    "        return x\n",
    "    \n",
    "# replacing old bathrooms_text variable\n",
    "\n",
    "df['bathrooms_text'] = df.bathrooms_text.apply(bathroom_cleaner)"
   ]
  },
  {
   "cell_type": "markdown",
   "metadata": {},
   "source": [
    "Filling the bathrooms_text variable with the mean value depending on the room_type and bedrooms value of the property"
   ]
  },
  {
   "cell_type": "code",
   "execution_count": 109,
   "metadata": {},
   "outputs": [],
   "source": [
    "bathrooms_notnull = df[(df.bathrooms_text.notna()) & (df.bedrooms.notna())][['bedrooms','room_type','bathrooms_text']]\n",
    "\n",
    "def bathroom_filler(row):\n",
    "    if np.isnan(row['bathrooms_text']):\n",
    "        try:\n",
    "            mean_value = round(bathrooms_notnull[(bathrooms_notnull.room_type==row['room_type']) & (bathrooms_notnull.bedrooms==row['bedrooms'])]['bathrooms_text'].mean())\n",
    "            return float(mean_value)\n",
    "        except:\n",
    "            return row['bathrooms_text'] \n",
    "    else:\n",
    "        return row['bathrooms_text']\n",
    "\n",
    "df['bathrooms_text'] = df.apply(bathroom_filler,axis=1)\n",
    "\n",
    "bathrooms_null = df[df.bathrooms_text.isna()]\n",
    "\n",
    "df.drop(bathrooms_null.index,axis=0,inplace=True)\n",
    "df['bathrooms_text'] = df.bathrooms_text.apply(lambda x: float(x))"
   ]
  },
  {
   "cell_type": "code",
   "execution_count": 110,
   "metadata": {},
   "outputs": [],
   "source": [
    "df.rename(columns={'bathrooms_text': 'bathrooms', 'neighbourhood_cleansed': 'neighbourhood'},inplace=True)"
   ]
  },
  {
   "cell_type": "markdown",
   "metadata": {},
   "source": [
    "### Filling null values in beds and bedrooms columns"
   ]
  },
  {
   "cell_type": "code",
   "execution_count": 111,
   "metadata": {},
   "outputs": [],
   "source": [
    "# finding out the mean number of bedrooms for each room type\n",
    "\n",
    "bedrooms_notnull = df[(df.bedrooms.notnull())][['room_type','bedrooms','bathrooms']].copy()\n",
    "\n",
    "# code to replace null bedroom values with mean values based on room type and number of bathrooms\n",
    "\n",
    "\n",
    "def bedroom_cleaner(row):\n",
    "    if np.isnan(row['bedrooms']):\n",
    "        try:\n",
    "            mean_value = round(bedrooms_notnull[(bedrooms_notnull.room_type==row['room_type']) & (bedrooms_notnull.bathrooms==row['bathrooms'])]['bedrooms'].mean())\n",
    "            return mean_value\n",
    "        except:\n",
    "            return round(row['bathrooms'])\n",
    "    else:\n",
    "        return row['bedrooms']"
   ]
  },
  {
   "cell_type": "code",
   "execution_count": 112,
   "metadata": {},
   "outputs": [],
   "source": [
    "df['bedrooms'] = df.apply(bedroom_cleaner,axis=1)"
   ]
  },
  {
   "cell_type": "code",
   "execution_count": 113,
   "metadata": {},
   "outputs": [],
   "source": [
    "# filling the null and zero values in beds\n",
    "\n",
    "df['beds'] = df.apply(lambda row: row['bedrooms'] if np.isnan(row['beds']) or row['beds']==0 else row['beds'], axis=1)"
   ]
  },
  {
   "cell_type": "markdown",
   "metadata": {},
   "source": [
    "### Adding serviced variable"
   ]
  },
  {
   "cell_type": "code",
   "execution_count": 114,
   "metadata": {},
   "outputs": [],
   "source": [
    "def serviced_function(x):\n",
    "    serviced_prop_types_list = ['serviced', 'hotel', 'bed and breakfast', 'aparthotel', 'hostel']\n",
    "    if any([prop_type in x for prop_type in serviced_prop_types_list]):\n",
    "        return 1\n",
    "    else:\n",
    "        return 0\n",
    "    \n",
    "df['serviced_property'] = df.property_type.apply(serviced_function)"
   ]
  },
  {
   "cell_type": "markdown",
   "metadata": {},
   "source": [
    "### Cleaning the property_type column\n",
    "\n",
    "At the moment the property type column contains too many variables, some with very few values. I'm hoping that a model will perform better if these values are combined in to umbrella categories instead."
   ]
  },
  {
   "cell_type": "code",
   "execution_count": 115,
   "metadata": {},
   "outputs": [
    {
     "data": {
      "text/plain": [
       "Entire apartment                      30853\n",
       "Private room in apartment             17736\n",
       "Private room in house                 10795\n",
       "Entire house                           5331\n",
       "Private room in townhouse              1462\n",
       "Entire condominium                     1453\n",
       "Entire townhouse                        946\n",
       "Entire serviced apartment               922\n",
       "Private room in condominium             683\n",
       "Private room in bed and breakfast       599\n",
       "Room in boutique hotel                  471\n",
       "Entire loft                             423\n",
       "Room in hotel                           322\n",
       "Shared room in apartment                288\n",
       "Room in serviced apartment              253\n",
       "Private room in loft                    236\n",
       "Entire guest suite                      186\n",
       "Private room in guest suite             179\n",
       "Private room in guesthouse              172\n",
       "Shared room in house                    125\n",
       "Entire guesthouse                       123\n",
       "Room in aparthotel                      109\n",
       "Private room                            107\n",
       "Private room in bungalow                 95\n",
       "Shared room in hostel                    90\n",
       "Room in hostel                           88\n",
       "Private room in serviced apartment       82\n",
       "Room in bed and breakfast                60\n",
       "Boat                                     55\n",
       "Private room in hostel                   52\n",
       "Entire cottage                           50\n",
       "Entire bungalow                          42\n",
       "Tiny house                               36\n",
       "Private room in cottage                  35\n",
       "Private room in tiny house               27\n",
       "Entire villa                             27\n",
       "Entire place                             25\n",
       "Houseboat                                20\n",
       "Shared room in bed and breakfast         20\n",
       "Private room in earth house              15\n",
       "Entire home/apt                          15\n",
       "Entire cabin                             14\n",
       "Private room in villa                    13\n",
       "Shared room in townhouse                 11\n",
       "Private room in houseboat                11\n",
       "Shared room in condominium               11\n",
       "Camper/RV                                10\n",
       "Private room in boat                     10\n",
       "Entire floor                              7\n",
       "Private room in hut                       7\n",
       "Name: property_type, dtype: int64"
      ]
     },
     "execution_count": 115,
     "metadata": {},
     "output_type": "execute_result"
    }
   ],
   "source": [
    "df.property_type.value_counts().head(50)"
   ]
  },
  {
   "cell_type": "code",
   "execution_count": 116,
   "metadata": {},
   "outputs": [],
   "source": [
    "# new property type categories\n",
    "\n",
    "property_categories = ['apartment', 'house', 'townhouse', 'condominium',\n",
    "                       'hotel', 'boutique hotel', 'bed and breakfast', 'loft',\n",
    "                       'guest suite', 'guesthouse', 'private room', 'aparthotel',\n",
    "                      'bungalow', 'hostel', 'boat', 'cottage', 'bungalow', 'villa', 'houseboat', 'other']\n",
    "\n",
    "# function to sort the property column in to new categories\n",
    "\n",
    "def property_simplifier(x):\n",
    "    split = x.lower().split()\n",
    "    if (' ').join(split[-3:]) in property_categories:\n",
    "        return (' ').join(split[-3:])\n",
    "    elif (' ').join(split[-2:]) in property_categories:\n",
    "        return (' ').join(split[-2:])\n",
    "    elif split[-1]=='houseboat':\n",
    "        return 'boat'\n",
    "    elif split[-1] in property_categories:\n",
    "        return split[-1]\n",
    "    else:\n",
    "        return 'other'\n",
    "    \n",
    "# apply function to property_type column\n",
    "\n",
    "df['property_type_simplified'] = df.property_type.apply(property_simplifier)"
   ]
  },
  {
   "cell_type": "code",
   "execution_count": 117,
   "metadata": {},
   "outputs": [],
   "source": [
    "apartment_cats = ['apartment', 'condominium', 'loft', 'guest suite', 'private room',\n",
    "                  'hotel', 'boutique hotel', 'bed and breakfast', 'guest suite',\n",
    "                  'aparthotel', 'hostel']\n",
    "\n",
    "df['property_type_basic'] = df.property_type_simplified.apply(lambda x: \"apartment\" if x in apartment_cats else \"house\")"
   ]
  },
  {
   "cell_type": "code",
   "execution_count": 118,
   "metadata": {},
   "outputs": [
    {
     "data": {
      "text/plain": [
       "apartment    55238\n",
       "house        19569\n",
       "Name: property_type_basic, dtype: int64"
      ]
     },
     "execution_count": 118,
     "metadata": {},
     "output_type": "execute_result"
    }
   ],
   "source": [
    "df.property_type_basic.value_counts()"
   ]
  },
  {
   "cell_type": "code",
   "execution_count": 119,
   "metadata": {},
   "outputs": [],
   "source": [
    "# creating new columns to show whether the properties have text variables such as description, host_about etc.\n",
    "\n",
    "df['description_provided'] = df.description.apply(lambda x: 0 if x == 'null' else 1)\n",
    "df['neighborhood_overview_provided'] = df.neighborhood_overview.apply(lambda x: 0 if x == 'null' else 1)\n",
    "df['host_about_provided'] = df.host_about.apply(lambda x: 0 if x == 'null' else 1)"
   ]
  },
  {
   "cell_type": "code",
   "execution_count": 120,
   "metadata": {},
   "outputs": [
    {
     "data": {
      "text/html": [
       "<div>\n",
       "<style scoped>\n",
       "    .dataframe tbody tr th:only-of-type {\n",
       "        vertical-align: middle;\n",
       "    }\n",
       "\n",
       "    .dataframe tbody tr th {\n",
       "        vertical-align: top;\n",
       "    }\n",
       "\n",
       "    .dataframe thead th {\n",
       "        text-align: right;\n",
       "    }\n",
       "</style>\n",
       "<table border=\"1\" class=\"dataframe\">\n",
       "  <thead>\n",
       "    <tr style=\"text-align: right;\">\n",
       "      <th></th>\n",
       "      <th>0</th>\n",
       "    </tr>\n",
       "  </thead>\n",
       "  <tbody>\n",
       "    <tr>\n",
       "      <th>host_is_superhost</th>\n",
       "      <td>1980</td>\n",
       "    </tr>\n",
       "    <tr>\n",
       "      <th>host_has_profile_pic</th>\n",
       "      <td>1980</td>\n",
       "    </tr>\n",
       "    <tr>\n",
       "      <th>host_identity_verified</th>\n",
       "      <td>1980</td>\n",
       "    </tr>\n",
       "  </tbody>\n",
       "</table>\n",
       "</div>"
      ],
      "text/plain": [
       "                           0\n",
       "host_is_superhost       1980\n",
       "host_has_profile_pic    1980\n",
       "host_identity_verified  1980"
      ]
     },
     "execution_count": 120,
     "metadata": {},
     "output_type": "execute_result"
    }
   ],
   "source": [
    "null_values = pd.DataFrame(df.isnull().sum())\n",
    "null_values = null_values[null_values[0] != 0]\n",
    "null_values"
   ]
  },
  {
   "cell_type": "markdown",
   "metadata": {},
   "source": [
    "### Creating new variables to show length of text data"
   ]
  },
  {
   "cell_type": "code",
   "execution_count": 121,
   "metadata": {},
   "outputs": [],
   "source": [
    "nlp_columns = ['name', 'description', 'neighborhood_overview', 'host_about']\n",
    "\n",
    "def text_counter(text):\n",
    "    if text != 'null':\n",
    "        split = text.split()\n",
    "        return len(split)\n",
    "    else:\n",
    "        return 0\n",
    "\n",
    "for column in nlp_columns:\n",
    "    df[column+'_length'] = df[column].apply(text_counter)"
   ]
  },
  {
   "cell_type": "markdown",
   "metadata": {},
   "source": [
    "### Converting true/false columns to binary values\n",
    "\n",
    "If the value is null then it will be overwritten as 0."
   ]
  },
  {
   "cell_type": "code",
   "execution_count": 122,
   "metadata": {},
   "outputs": [],
   "source": [
    "columns_to_binarise = ['host_is_superhost', 'host_has_profile_pic', 'host_identity_verified', 'instant_bookable']"
   ]
  },
  {
   "cell_type": "code",
   "execution_count": 123,
   "metadata": {},
   "outputs": [],
   "source": [
    "for column in columns_to_binarise:\n",
    "    df[column] = df[column].apply(lambda x: 1 if x=='t' else 0)"
   ]
  },
  {
   "cell_type": "code",
   "execution_count": 124,
   "metadata": {},
   "outputs": [
    {
     "data": {
      "text/html": [
       "<div>\n",
       "<style scoped>\n",
       "    .dataframe tbody tr th:only-of-type {\n",
       "        vertical-align: middle;\n",
       "    }\n",
       "\n",
       "    .dataframe tbody tr th {\n",
       "        vertical-align: top;\n",
       "    }\n",
       "\n",
       "    .dataframe thead th {\n",
       "        text-align: right;\n",
       "    }\n",
       "</style>\n",
       "<table border=\"1\" class=\"dataframe\">\n",
       "  <thead>\n",
       "    <tr style=\"text-align: right;\">\n",
       "      <th></th>\n",
       "      <th>0</th>\n",
       "      <th>1</th>\n",
       "      <th>2</th>\n",
       "      <th>3</th>\n",
       "      <th>4</th>\n",
       "    </tr>\n",
       "  </thead>\n",
       "  <tbody>\n",
       "    <tr>\n",
       "      <th>id</th>\n",
       "      <td>11551</td>\n",
       "      <td>13913</td>\n",
       "      <td>15400</td>\n",
       "      <td>17402</td>\n",
       "      <td>17506</td>\n",
       "    </tr>\n",
       "    <tr>\n",
       "      <th>listing_url</th>\n",
       "      <td>https://www.airbnb.com/rooms/11551</td>\n",
       "      <td>https://www.airbnb.com/rooms/13913</td>\n",
       "      <td>https://www.airbnb.com/rooms/15400</td>\n",
       "      <td>https://www.airbnb.com/rooms/17402</td>\n",
       "      <td>https://www.airbnb.com/rooms/17506</td>\n",
       "    </tr>\n",
       "    <tr>\n",
       "      <th>name</th>\n",
       "      <td>Arty and Bright London Apartment in Zone 2</td>\n",
       "      <td>Holiday London DB Room Let-on going</td>\n",
       "      <td>Bright Chelsea  Apartment. Chelsea!</td>\n",
       "      <td>Superb 3-Bed/2 Bath &amp; Wifi: Trendy W1</td>\n",
       "      <td>Boutique Chelsea/Fulham Double bed 5-star ensuite</td>\n",
       "    </tr>\n",
       "    <tr>\n",
       "      <th>description</th>\n",
       "      <td>Unlike most rental apartments my flat gives yo...</td>\n",
       "      <td>My bright double bedroom with a large window h...</td>\n",
       "      <td>Lots of windows and light.  St Luke's Gardens ...</td>\n",
       "      <td>You'll have a wonderful stay in this superb mo...</td>\n",
       "      <td>Enjoy a chic stay in this elegant but fully mo...</td>\n",
       "    </tr>\n",
       "    <tr>\n",
       "      <th>neighborhood_overview</th>\n",
       "      <td>Not even 10 minutes by metro from Victoria Sta...</td>\n",
       "      <td>Finsbury Park is a friendly melting pot commun...</td>\n",
       "      <td>It is Chelsea.</td>\n",
       "      <td>Location, location, location! You won't find b...</td>\n",
       "      <td>Fulham is 'villagey' and residential – a real ...</td>\n",
       "    </tr>\n",
       "    <tr>\n",
       "      <th>host_id</th>\n",
       "      <td>43039</td>\n",
       "      <td>54730</td>\n",
       "      <td>60302</td>\n",
       "      <td>67564</td>\n",
       "      <td>67915</td>\n",
       "    </tr>\n",
       "    <tr>\n",
       "      <th>host_about</th>\n",
       "      <td>Hello, I'm a friendly Italian man with a posit...</td>\n",
       "      <td>I am a Multi-Media Visual Artist and Creative ...</td>\n",
       "      <td>English, grandmother,  I have travelled quite ...</td>\n",
       "      <td>We are Liz and Jack.  We manage a number of ho...</td>\n",
       "      <td>Named best B&amp;B by The Times. Easy going hosts,...</td>\n",
       "    </tr>\n",
       "    <tr>\n",
       "      <th>host_response_time</th>\n",
       "      <td>within an hour</td>\n",
       "      <td>within an hour</td>\n",
       "      <td>unknown</td>\n",
       "      <td>within an hour</td>\n",
       "      <td>unknown</td>\n",
       "    </tr>\n",
       "    <tr>\n",
       "      <th>host_response_rate</th>\n",
       "      <td>Above or equal to 75%</td>\n",
       "      <td>Above or equal to 75%</td>\n",
       "      <td>Below 75%</td>\n",
       "      <td>Above or equal to 75%</td>\n",
       "      <td>Below 75%</td>\n",
       "    </tr>\n",
       "    <tr>\n",
       "      <th>host_acceptance_rate</th>\n",
       "      <td>Above or equal to 75%</td>\n",
       "      <td>Below 75%</td>\n",
       "      <td>Below 75%</td>\n",
       "      <td>Above or equal to 75%</td>\n",
       "      <td>Below 75%</td>\n",
       "    </tr>\n",
       "    <tr>\n",
       "      <th>host_is_superhost</th>\n",
       "      <td>0</td>\n",
       "      <td>0</td>\n",
       "      <td>0</td>\n",
       "      <td>0</td>\n",
       "      <td>0</td>\n",
       "    </tr>\n",
       "    <tr>\n",
       "      <th>host_verifications</th>\n",
       "      <td>['email', 'phone', 'reviews', 'jumio', 'offlin...</td>\n",
       "      <td>['email', 'phone', 'facebook', 'reviews', 'off...</td>\n",
       "      <td>['email', 'phone', 'reviews', 'jumio', 'govern...</td>\n",
       "      <td>['email', 'phone', 'reviews', 'jumio', 'offlin...</td>\n",
       "      <td>['email', 'phone', 'jumio', 'selfie', 'governm...</td>\n",
       "    </tr>\n",
       "    <tr>\n",
       "      <th>host_has_profile_pic</th>\n",
       "      <td>1</td>\n",
       "      <td>1</td>\n",
       "      <td>1</td>\n",
       "      <td>1</td>\n",
       "      <td>1</td>\n",
       "    </tr>\n",
       "    <tr>\n",
       "      <th>host_identity_verified</th>\n",
       "      <td>1</td>\n",
       "      <td>1</td>\n",
       "      <td>1</td>\n",
       "      <td>1</td>\n",
       "      <td>1</td>\n",
       "    </tr>\n",
       "    <tr>\n",
       "      <th>neighbourhood</th>\n",
       "      <td>Lambeth</td>\n",
       "      <td>Islington</td>\n",
       "      <td>Kensington and Chelsea</td>\n",
       "      <td>Westminster</td>\n",
       "      <td>Hammersmith and Fulham</td>\n",
       "    </tr>\n",
       "    <tr>\n",
       "      <th>latitude</th>\n",
       "      <td>51.4609</td>\n",
       "      <td>51.5686</td>\n",
       "      <td>51.4878</td>\n",
       "      <td>51.5219</td>\n",
       "      <td>51.4793</td>\n",
       "    </tr>\n",
       "    <tr>\n",
       "      <th>longitude</th>\n",
       "      <td>-0.11758</td>\n",
       "      <td>-0.1127</td>\n",
       "      <td>-0.16813</td>\n",
       "      <td>-0.14094</td>\n",
       "      <td>-0.19743</td>\n",
       "    </tr>\n",
       "    <tr>\n",
       "      <th>property_type</th>\n",
       "      <td>Entire apartment</td>\n",
       "      <td>Private room in apartment</td>\n",
       "      <td>Entire apartment</td>\n",
       "      <td>Entire apartment</td>\n",
       "      <td>Private room in townhouse</td>\n",
       "    </tr>\n",
       "    <tr>\n",
       "      <th>room_type</th>\n",
       "      <td>Entire home/apt</td>\n",
       "      <td>Private room</td>\n",
       "      <td>Entire home/apt</td>\n",
       "      <td>Entire home/apt</td>\n",
       "      <td>Private room</td>\n",
       "    </tr>\n",
       "    <tr>\n",
       "      <th>accommodates</th>\n",
       "      <td>4</td>\n",
       "      <td>2</td>\n",
       "      <td>2</td>\n",
       "      <td>6</td>\n",
       "      <td>2</td>\n",
       "    </tr>\n",
       "    <tr>\n",
       "      <th>bathrooms</th>\n",
       "      <td>1</td>\n",
       "      <td>1</td>\n",
       "      <td>1</td>\n",
       "      <td>2</td>\n",
       "      <td>1</td>\n",
       "    </tr>\n",
       "    <tr>\n",
       "      <th>bedrooms</th>\n",
       "      <td>1</td>\n",
       "      <td>1</td>\n",
       "      <td>1</td>\n",
       "      <td>3</td>\n",
       "      <td>1</td>\n",
       "    </tr>\n",
       "    <tr>\n",
       "      <th>beds</th>\n",
       "      <td>3</td>\n",
       "      <td>1</td>\n",
       "      <td>1</td>\n",
       "      <td>3</td>\n",
       "      <td>1</td>\n",
       "    </tr>\n",
       "    <tr>\n",
       "      <th>amenities</th>\n",
       "      <td>[\"Hair dryer\", \"Essentials\", \"Washer\", \"Lockbo...</td>\n",
       "      <td>[\"Kitchen\", \"Host greets you\", \"Bed linens\", \"...</td>\n",
       "      <td>[\"Kitchen\", \"Hangers\", \"Fire extinguisher\", \"L...</td>\n",
       "      <td>[\"Dishwasher\", \"Kitchen\", \"Bed linens\", \"Hange...</td>\n",
       "      <td>[\"Shower gel\", \"Essentials\", \"TV\", \"Hair dryer...</td>\n",
       "    </tr>\n",
       "    <tr>\n",
       "      <th>price</th>\n",
       "      <td>110</td>\n",
       "      <td>40</td>\n",
       "      <td>75</td>\n",
       "      <td>307</td>\n",
       "      <td>150</td>\n",
       "    </tr>\n",
       "    <tr>\n",
       "      <th>instant_bookable</th>\n",
       "      <td>1</td>\n",
       "      <td>0</td>\n",
       "      <td>1</td>\n",
       "      <td>0</td>\n",
       "      <td>0</td>\n",
       "    </tr>\n",
       "    <tr>\n",
       "      <th>calculated_host_listings_count</th>\n",
       "      <td>2</td>\n",
       "      <td>2</td>\n",
       "      <td>1</td>\n",
       "      <td>15</td>\n",
       "      <td>2</td>\n",
       "    </tr>\n",
       "    <tr>\n",
       "      <th>distance_from_center</th>\n",
       "      <td>4.89941</td>\n",
       "      <td>7.13538</td>\n",
       "      <td>3.63275</td>\n",
       "      <td>2.25684</td>\n",
       "      <td>5.86531</td>\n",
       "    </tr>\n",
       "    <tr>\n",
       "      <th>nearest_station</th>\n",
       "      <td>Brixton</td>\n",
       "      <td>Crouch Hill</td>\n",
       "      <td>South Kensington</td>\n",
       "      <td>Great Portland Street</td>\n",
       "      <td>Fulham Broadway</td>\n",
       "    </tr>\n",
       "    <tr>\n",
       "      <th>station_distance</th>\n",
       "      <td>0.326811</td>\n",
       "      <td>0.315927</td>\n",
       "      <td>0.685606</td>\n",
       "      <td>0.196305</td>\n",
       "      <td>0.312706</td>\n",
       "    </tr>\n",
       "    <tr>\n",
       "      <th>rail_network</th>\n",
       "      <td>London Underground</td>\n",
       "      <td>London Overground</td>\n",
       "      <td>London Underground</td>\n",
       "      <td>London Underground</td>\n",
       "      <td>London Underground</td>\n",
       "    </tr>\n",
       "    <tr>\n",
       "      <th>tfl_zone</th>\n",
       "      <td>2</td>\n",
       "      <td>3</td>\n",
       "      <td>1</td>\n",
       "      <td>1</td>\n",
       "      <td>2</td>\n",
       "    </tr>\n",
       "    <tr>\n",
       "      <th>postcode</th>\n",
       "      <td>SW9</td>\n",
       "      <td>N4</td>\n",
       "      <td>SW7</td>\n",
       "      <td>W1W</td>\n",
       "      <td>SW6</td>\n",
       "    </tr>\n",
       "    <tr>\n",
       "      <th>mean_monthly_rent</th>\n",
       "      <td>1429</td>\n",
       "      <td>1377</td>\n",
       "      <td>2374</td>\n",
       "      <td>2611</td>\n",
       "      <td>1530</td>\n",
       "    </tr>\n",
       "    <tr>\n",
       "      <th>serviced_property</th>\n",
       "      <td>0</td>\n",
       "      <td>0</td>\n",
       "      <td>0</td>\n",
       "      <td>0</td>\n",
       "      <td>0</td>\n",
       "    </tr>\n",
       "    <tr>\n",
       "      <th>property_type_simplified</th>\n",
       "      <td>apartment</td>\n",
       "      <td>apartment</td>\n",
       "      <td>apartment</td>\n",
       "      <td>apartment</td>\n",
       "      <td>townhouse</td>\n",
       "    </tr>\n",
       "    <tr>\n",
       "      <th>property_type_basic</th>\n",
       "      <td>apartment</td>\n",
       "      <td>apartment</td>\n",
       "      <td>apartment</td>\n",
       "      <td>apartment</td>\n",
       "      <td>house</td>\n",
       "    </tr>\n",
       "    <tr>\n",
       "      <th>description_provided</th>\n",
       "      <td>1</td>\n",
       "      <td>1</td>\n",
       "      <td>1</td>\n",
       "      <td>1</td>\n",
       "      <td>1</td>\n",
       "    </tr>\n",
       "    <tr>\n",
       "      <th>neighborhood_overview_provided</th>\n",
       "      <td>1</td>\n",
       "      <td>1</td>\n",
       "      <td>1</td>\n",
       "      <td>1</td>\n",
       "      <td>1</td>\n",
       "    </tr>\n",
       "    <tr>\n",
       "      <th>host_about_provided</th>\n",
       "      <td>1</td>\n",
       "      <td>1</td>\n",
       "      <td>1</td>\n",
       "      <td>1</td>\n",
       "      <td>1</td>\n",
       "    </tr>\n",
       "    <tr>\n",
       "      <th>name_length</th>\n",
       "      <td>8</td>\n",
       "      <td>6</td>\n",
       "      <td>4</td>\n",
       "      <td>7</td>\n",
       "      <td>6</td>\n",
       "    </tr>\n",
       "    <tr>\n",
       "      <th>description_length</th>\n",
       "      <td>159</td>\n",
       "      <td>181</td>\n",
       "      <td>167</td>\n",
       "      <td>155</td>\n",
       "      <td>128</td>\n",
       "    </tr>\n",
       "    <tr>\n",
       "      <th>neighborhood_overview_length</th>\n",
       "      <td>164</td>\n",
       "      <td>73</td>\n",
       "      <td>3</td>\n",
       "      <td>168</td>\n",
       "      <td>82</td>\n",
       "    </tr>\n",
       "    <tr>\n",
       "      <th>host_about_length</th>\n",
       "      <td>340</td>\n",
       "      <td>41</td>\n",
       "      <td>67</td>\n",
       "      <td>229</td>\n",
       "      <td>121</td>\n",
       "    </tr>\n",
       "  </tbody>\n",
       "</table>\n",
       "</div>"
      ],
      "text/plain": [
       "                                                                                0  \\\n",
       "id                                                                          11551   \n",
       "listing_url                                    https://www.airbnb.com/rooms/11551   \n",
       "name                                   Arty and Bright London Apartment in Zone 2   \n",
       "description                     Unlike most rental apartments my flat gives yo...   \n",
       "neighborhood_overview           Not even 10 minutes by metro from Victoria Sta...   \n",
       "host_id                                                                     43039   \n",
       "host_about                      Hello, I'm a friendly Italian man with a posit...   \n",
       "host_response_time                                                 within an hour   \n",
       "host_response_rate                                          Above or equal to 75%   \n",
       "host_acceptance_rate                                        Above or equal to 75%   \n",
       "host_is_superhost                                                               0   \n",
       "host_verifications              ['email', 'phone', 'reviews', 'jumio', 'offlin...   \n",
       "host_has_profile_pic                                                            1   \n",
       "host_identity_verified                                                          1   \n",
       "neighbourhood                                                             Lambeth   \n",
       "latitude                                                                  51.4609   \n",
       "longitude                                                                -0.11758   \n",
       "property_type                                                    Entire apartment   \n",
       "room_type                                                         Entire home/apt   \n",
       "accommodates                                                                    4   \n",
       "bathrooms                                                                       1   \n",
       "bedrooms                                                                        1   \n",
       "beds                                                                            3   \n",
       "amenities                       [\"Hair dryer\", \"Essentials\", \"Washer\", \"Lockbo...   \n",
       "price                                                                         110   \n",
       "instant_bookable                                                                1   \n",
       "calculated_host_listings_count                                                  2   \n",
       "distance_from_center                                                      4.89941   \n",
       "nearest_station                                                           Brixton   \n",
       "station_distance                                                         0.326811   \n",
       "rail_network                                                   London Underground   \n",
       "tfl_zone                                                                        2   \n",
       "postcode                                                                      SW9   \n",
       "mean_monthly_rent                                                            1429   \n",
       "serviced_property                                                               0   \n",
       "property_type_simplified                                                apartment   \n",
       "property_type_basic                                                     apartment   \n",
       "description_provided                                                            1   \n",
       "neighborhood_overview_provided                                                  1   \n",
       "host_about_provided                                                             1   \n",
       "name_length                                                                     8   \n",
       "description_length                                                            159   \n",
       "neighborhood_overview_length                                                  164   \n",
       "host_about_length                                                             340   \n",
       "\n",
       "                                                                                1  \\\n",
       "id                                                                          13913   \n",
       "listing_url                                    https://www.airbnb.com/rooms/13913   \n",
       "name                                          Holiday London DB Room Let-on going   \n",
       "description                     My bright double bedroom with a large window h...   \n",
       "neighborhood_overview           Finsbury Park is a friendly melting pot commun...   \n",
       "host_id                                                                     54730   \n",
       "host_about                      I am a Multi-Media Visual Artist and Creative ...   \n",
       "host_response_time                                                 within an hour   \n",
       "host_response_rate                                          Above or equal to 75%   \n",
       "host_acceptance_rate                                                    Below 75%   \n",
       "host_is_superhost                                                               0   \n",
       "host_verifications              ['email', 'phone', 'facebook', 'reviews', 'off...   \n",
       "host_has_profile_pic                                                            1   \n",
       "host_identity_verified                                                          1   \n",
       "neighbourhood                                                           Islington   \n",
       "latitude                                                                  51.5686   \n",
       "longitude                                                                 -0.1127   \n",
       "property_type                                           Private room in apartment   \n",
       "room_type                                                            Private room   \n",
       "accommodates                                                                    2   \n",
       "bathrooms                                                                       1   \n",
       "bedrooms                                                                        1   \n",
       "beds                                                                            1   \n",
       "amenities                       [\"Kitchen\", \"Host greets you\", \"Bed linens\", \"...   \n",
       "price                                                                          40   \n",
       "instant_bookable                                                                0   \n",
       "calculated_host_listings_count                                                  2   \n",
       "distance_from_center                                                      7.13538   \n",
       "nearest_station                                                       Crouch Hill   \n",
       "station_distance                                                         0.315927   \n",
       "rail_network                                                    London Overground   \n",
       "tfl_zone                                                                        3   \n",
       "postcode                                                                       N4   \n",
       "mean_monthly_rent                                                            1377   \n",
       "serviced_property                                                               0   \n",
       "property_type_simplified                                                apartment   \n",
       "property_type_basic                                                     apartment   \n",
       "description_provided                                                            1   \n",
       "neighborhood_overview_provided                                                  1   \n",
       "host_about_provided                                                             1   \n",
       "name_length                                                                     6   \n",
       "description_length                                                            181   \n",
       "neighborhood_overview_length                                                   73   \n",
       "host_about_length                                                              41   \n",
       "\n",
       "                                                                                2  \\\n",
       "id                                                                          15400   \n",
       "listing_url                                    https://www.airbnb.com/rooms/15400   \n",
       "name                                          Bright Chelsea  Apartment. Chelsea!   \n",
       "description                     Lots of windows and light.  St Luke's Gardens ...   \n",
       "neighborhood_overview                                              It is Chelsea.   \n",
       "host_id                                                                     60302   \n",
       "host_about                      English, grandmother,  I have travelled quite ...   \n",
       "host_response_time                                                        unknown   \n",
       "host_response_rate                                                      Below 75%   \n",
       "host_acceptance_rate                                                    Below 75%   \n",
       "host_is_superhost                                                               0   \n",
       "host_verifications              ['email', 'phone', 'reviews', 'jumio', 'govern...   \n",
       "host_has_profile_pic                                                            1   \n",
       "host_identity_verified                                                          1   \n",
       "neighbourhood                                              Kensington and Chelsea   \n",
       "latitude                                                                  51.4878   \n",
       "longitude                                                                -0.16813   \n",
       "property_type                                                    Entire apartment   \n",
       "room_type                                                         Entire home/apt   \n",
       "accommodates                                                                    2   \n",
       "bathrooms                                                                       1   \n",
       "bedrooms                                                                        1   \n",
       "beds                                                                            1   \n",
       "amenities                       [\"Kitchen\", \"Hangers\", \"Fire extinguisher\", \"L...   \n",
       "price                                                                          75   \n",
       "instant_bookable                                                                1   \n",
       "calculated_host_listings_count                                                  1   \n",
       "distance_from_center                                                      3.63275   \n",
       "nearest_station                                                  South Kensington   \n",
       "station_distance                                                         0.685606   \n",
       "rail_network                                                   London Underground   \n",
       "tfl_zone                                                                        1   \n",
       "postcode                                                                      SW7   \n",
       "mean_monthly_rent                                                            2374   \n",
       "serviced_property                                                               0   \n",
       "property_type_simplified                                                apartment   \n",
       "property_type_basic                                                     apartment   \n",
       "description_provided                                                            1   \n",
       "neighborhood_overview_provided                                                  1   \n",
       "host_about_provided                                                             1   \n",
       "name_length                                                                     4   \n",
       "description_length                                                            167   \n",
       "neighborhood_overview_length                                                    3   \n",
       "host_about_length                                                              67   \n",
       "\n",
       "                                                                                3  \\\n",
       "id                                                                          17402   \n",
       "listing_url                                    https://www.airbnb.com/rooms/17402   \n",
       "name                                        Superb 3-Bed/2 Bath & Wifi: Trendy W1   \n",
       "description                     You'll have a wonderful stay in this superb mo...   \n",
       "neighborhood_overview           Location, location, location! You won't find b...   \n",
       "host_id                                                                     67564   \n",
       "host_about                      We are Liz and Jack.  We manage a number of ho...   \n",
       "host_response_time                                                 within an hour   \n",
       "host_response_rate                                          Above or equal to 75%   \n",
       "host_acceptance_rate                                        Above or equal to 75%   \n",
       "host_is_superhost                                                               0   \n",
       "host_verifications              ['email', 'phone', 'reviews', 'jumio', 'offlin...   \n",
       "host_has_profile_pic                                                            1   \n",
       "host_identity_verified                                                          1   \n",
       "neighbourhood                                                         Westminster   \n",
       "latitude                                                                  51.5219   \n",
       "longitude                                                                -0.14094   \n",
       "property_type                                                    Entire apartment   \n",
       "room_type                                                         Entire home/apt   \n",
       "accommodates                                                                    6   \n",
       "bathrooms                                                                       2   \n",
       "bedrooms                                                                        3   \n",
       "beds                                                                            3   \n",
       "amenities                       [\"Dishwasher\", \"Kitchen\", \"Bed linens\", \"Hange...   \n",
       "price                                                                         307   \n",
       "instant_bookable                                                                0   \n",
       "calculated_host_listings_count                                                 15   \n",
       "distance_from_center                                                      2.25684   \n",
       "nearest_station                                             Great Portland Street   \n",
       "station_distance                                                         0.196305   \n",
       "rail_network                                                   London Underground   \n",
       "tfl_zone                                                                        1   \n",
       "postcode                                                                      W1W   \n",
       "mean_monthly_rent                                                            2611   \n",
       "serviced_property                                                               0   \n",
       "property_type_simplified                                                apartment   \n",
       "property_type_basic                                                     apartment   \n",
       "description_provided                                                            1   \n",
       "neighborhood_overview_provided                                                  1   \n",
       "host_about_provided                                                             1   \n",
       "name_length                                                                     7   \n",
       "description_length                                                            155   \n",
       "neighborhood_overview_length                                                  168   \n",
       "host_about_length                                                             229   \n",
       "\n",
       "                                                                                4  \n",
       "id                                                                          17506  \n",
       "listing_url                                    https://www.airbnb.com/rooms/17506  \n",
       "name                            Boutique Chelsea/Fulham Double bed 5-star ensuite  \n",
       "description                     Enjoy a chic stay in this elegant but fully mo...  \n",
       "neighborhood_overview           Fulham is 'villagey' and residential – a real ...  \n",
       "host_id                                                                     67915  \n",
       "host_about                      Named best B&B by The Times. Easy going hosts,...  \n",
       "host_response_time                                                        unknown  \n",
       "host_response_rate                                                      Below 75%  \n",
       "host_acceptance_rate                                                    Below 75%  \n",
       "host_is_superhost                                                               0  \n",
       "host_verifications              ['email', 'phone', 'jumio', 'selfie', 'governm...  \n",
       "host_has_profile_pic                                                            1  \n",
       "host_identity_verified                                                          1  \n",
       "neighbourhood                                              Hammersmith and Fulham  \n",
       "latitude                                                                  51.4793  \n",
       "longitude                                                                -0.19743  \n",
       "property_type                                           Private room in townhouse  \n",
       "room_type                                                            Private room  \n",
       "accommodates                                                                    2  \n",
       "bathrooms                                                                       1  \n",
       "bedrooms                                                                        1  \n",
       "beds                                                                            1  \n",
       "amenities                       [\"Shower gel\", \"Essentials\", \"TV\", \"Hair dryer...  \n",
       "price                                                                         150  \n",
       "instant_bookable                                                                0  \n",
       "calculated_host_listings_count                                                  2  \n",
       "distance_from_center                                                      5.86531  \n",
       "nearest_station                                                   Fulham Broadway  \n",
       "station_distance                                                         0.312706  \n",
       "rail_network                                                   London Underground  \n",
       "tfl_zone                                                                        2  \n",
       "postcode                                                                      SW6  \n",
       "mean_monthly_rent                                                            1530  \n",
       "serviced_property                                                               0  \n",
       "property_type_simplified                                                townhouse  \n",
       "property_type_basic                                                         house  \n",
       "description_provided                                                            1  \n",
       "neighborhood_overview_provided                                                  1  \n",
       "host_about_provided                                                             1  \n",
       "name_length                                                                     6  \n",
       "description_length                                                            128  \n",
       "neighborhood_overview_length                                                   82  \n",
       "host_about_length                                                             121  "
      ]
     },
     "execution_count": 124,
     "metadata": {},
     "output_type": "execute_result"
    }
   ],
   "source": [
    "df.head().T"
   ]
  },
  {
   "cell_type": "markdown",
   "metadata": {},
   "source": [
    "### Removing properties with no reviews"
   ]
  },
  {
   "cell_type": "markdown",
   "metadata": {},
   "source": [
    "A lot of the properties with insane outlier values have no reviews. Although this will remove a lot of observations from my data set, it will also provide me with more accurate data to build a model around."
   ]
  },
  {
   "cell_type": "code",
   "execution_count": 125,
   "metadata": {
    "scrolled": false
   },
   "outputs": [],
   "source": [
    "# df[(df.room_type=='Private room')&(df.price>750)].number_of_reviews.describe()"
   ]
  },
  {
   "cell_type": "code",
   "execution_count": 126,
   "metadata": {
    "scrolled": true
   },
   "outputs": [],
   "source": [
    "# df[(df.room_type=='Entire home/apt')&(df.price>2000)].number_of_reviews.describe()"
   ]
  },
  {
   "cell_type": "markdown",
   "metadata": {},
   "source": [
    "Removing all properties that have never been reviewed"
   ]
  },
  {
   "cell_type": "code",
   "execution_count": 127,
   "metadata": {},
   "outputs": [],
   "source": [
    "# df.drop(df[df.number_of_reviews==0].index,inplace=True)"
   ]
  },
  {
   "cell_type": "markdown",
   "metadata": {},
   "source": [
    "# Dummifying the host_verification and amenities columns"
   ]
  },
  {
   "cell_type": "markdown",
   "metadata": {},
   "source": [
    "Discarding the host_verification values - not important"
   ]
  },
  {
   "cell_type": "code",
   "execution_count": 128,
   "metadata": {},
   "outputs": [],
   "source": [
    "# hv_values = []\n",
    "\n",
    "# for hv_list in df.host_verifications:\n",
    "#     if eval(hv_list) != None:\n",
    "#         lst = eval(hv_list)\n",
    "#         for value in lst:\n",
    "#             if value not in hv_values:\n",
    "#                 hv_values.append(value)"
   ]
  },
  {
   "cell_type": "code",
   "execution_count": 129,
   "metadata": {},
   "outputs": [],
   "source": [
    "# hv_values"
   ]
  },
  {
   "cell_type": "code",
   "execution_count": 130,
   "metadata": {},
   "outputs": [],
   "source": [
    "# # converting the list values in the host_verification column in to binary dummified columns\n",
    "\n",
    "# # compiling all of the unique values within the lists\n",
    "\n",
    "# hv_values = []\n",
    "\n",
    "# for hv_list in df.host_verifications:\n",
    "#     if eval(hv_list) != None:\n",
    "#         lst = eval(hv_list)\n",
    "#         for value in lst:\n",
    "#             if value not in hv_values:\n",
    "#                 hv_values.append(value)\n",
    "            \n",
    "# # creating a dictionary to store the binary values for each value    \n",
    "\n",
    "# hv_dict = {}\n",
    "\n",
    "# for value in hv_values:\n",
    "#     hv_dict[value] = []\n",
    "\n",
    "# # adding the binary values to the dictionary    \n",
    "    \n",
    "# for hv_list in df.host_verifications:\n",
    "#     if eval(hv_list) != None:\n",
    "#         lst = eval(hv_list)\n",
    "#         for key in hv_dict.keys():\n",
    "#             if key in lst:\n",
    "#                 hv_dict[key].append(1)\n",
    "#             else:\n",
    "#                 hv_dict[key].append(0)\n",
    "#     else:\n",
    "#         for key in hv_dict.keys():\n",
    "#             hv_dict[key].append(0)\n",
    "            \n",
    "# # checking that my dictionary has recorded a value for each observation\n",
    "\n",
    "# for key in hv_dict.keys():\n",
    "#     if len(hv_dict[key]) != df.shape[0]:\n",
    "#         print(key, len(hv_dict[key]), \"error has occurred\")\n",
    "        \n",
    "# # discarding the values that are present in a very small number of observations         \n",
    "        \n",
    "# hv_columns = []\n",
    "\n",
    "# for key in hv_dict.keys():\n",
    "#     if sum(hv_dict[key]) >= df.shape[0]*0.01:\n",
    "#         hv_columns.append(key)\n",
    "        \n",
    "# # adding the columns to the dataframe\n",
    "\n",
    "# for column in hv_columns:\n",
    "#     df[\"host_verifications_\"+column] = hv_dict[column]\n",
    "    \n",
    "# # dropping the host_verification column from my dataframe\n",
    "\n",
    "# df.drop('host_verifications',axis=1, inplace=True)    "
   ]
  },
  {
   "cell_type": "code",
   "execution_count": 131,
   "metadata": {},
   "outputs": [],
   "source": [
    "# converting the list values in the amenities column in to binary dummified columns\n",
    "\n",
    "amenities_values = []\n",
    "\n",
    "for amenities_list in df.amenities:\n",
    "    if eval(amenities_list) != None:\n",
    "        lst = eval(amenities_list)\n",
    "        for value in lst:\n",
    "            if value not in amenities_values:\n",
    "                amenities_values.append(value)\n",
    "            \n",
    "amenities_dict = {}\n",
    "\n",
    "for value in amenities_values:\n",
    "    amenities_dict[value] = []    \n",
    "    \n",
    "for amenities_list in df.amenities:\n",
    "    if eval(amenities_list) != None:\n",
    "        lst = eval(amenities_list)\n",
    "        for key in amenities_dict.keys():\n",
    "            if key in lst:\n",
    "                amenities_dict[key].append(1)\n",
    "            else:\n",
    "                amenities_dict[key].append(0)\n",
    "    else:\n",
    "        for key in amenities_dict.keys():\n",
    "            amenities_dict[key].append(0)"
   ]
  },
  {
   "cell_type": "code",
   "execution_count": 132,
   "metadata": {
    "scrolled": true
   },
   "outputs": [],
   "source": [
    "amenities_count_dict = {}\n",
    "\n",
    "for key in amenities_dict.keys():\n",
    "    amenities_count_dict[key] = sum(amenities_dict[key])"
   ]
  },
  {
   "cell_type": "code",
   "execution_count": 133,
   "metadata": {
    "scrolled": true
   },
   "outputs": [
    {
     "data": {
      "text/plain": [
       "[('Air conditioning', 5342),\n",
       " ('BBQ grill', 2480),\n",
       " ('Baby bath', 768),\n",
       " ('Baby safety gates', 554),\n",
       " ('Babysitter recommendations', 1428),\n",
       " ('Backyard', 10524),\n",
       " ('Baking sheet', 1655),\n",
       " ('Barbecue utensils', 635),\n",
       " ('Bathtub', 7582),\n",
       " ('Bed linens', 26503),\n",
       " ('Body soap', 2242),\n",
       " ('Breakfast', 9968),\n",
       " ('Building staff', 1675),\n",
       " ('Cable TV', 11057),\n",
       " ('Carbon monoxide alarm', 43211),\n",
       " ('Changing table', 641),\n",
       " ('Children’s books and toys', 2977),\n",
       " ('Children’s dinnerware', 1561),\n",
       " ('Cleaning before checkout', 2262),\n",
       " ('Cleaning products', 1286),\n",
       " ('Clothing storage', 629),\n",
       " ('Coffee maker', 16372),\n",
       " ('Conditioner', 1618),\n",
       " ('Cooking basics', 28323),\n",
       " ('Crib', 3188),\n",
       " ('Dedicated workspace', 45223),\n",
       " ('Dining table', 1225),\n",
       " ('Dishes and silverware', 30520),\n",
       " ('Dishwasher', 17672),\n",
       " ('Dryer', 32570),\n",
       " ('Drying rack for clothing', 937),\n",
       " ('Elevator', 14697),\n",
       " ('Essentials', 68326),\n",
       " ('Ethernet connection', 3001),\n",
       " ('Extra pillows and blankets', 12793),\n",
       " ('Fire extinguisher', 23609),\n",
       " ('First aid kit', 23384),\n",
       " ('Free parking on premises', 14732),\n",
       " ('Free street parking', 8017),\n",
       " ('Freezer', 2877),\n",
       " ('Game console', 837),\n",
       " ('Gym', 2585),\n",
       " ('Hair dryer', 49661),\n",
       " ('Hangers', 57875),\n",
       " ('Heating', 69458),\n",
       " ('High chair', 3545),\n",
       " ('Host greets you', 11801),\n",
       " ('Hot tub', 2936),\n",
       " ('Hot water', 42269),\n",
       " ('Hot water kettle', 1898),\n",
       " ('Indoor fireplace', 5964),\n",
       " ('Iron', 55486),\n",
       " ('Keypad', 1192),\n",
       " ('Kitchen', 67674),\n",
       " ('Laundromat nearby', 1171),\n",
       " ('Lock on bedroom door', 12774),\n",
       " ('Lockbox', 8714),\n",
       " ('Long term stays allowed', 61648),\n",
       " ('Luggage dropoff allowed', 10812),\n",
       " ('Microwave', 26301),\n",
       " ('Mini fridge', 620),\n",
       " ('Nespresso machine', 788),\n",
       " ('Oven', 27446),\n",
       " ('Pack ’n Play/travel crib', 3170),\n",
       " ('Paid parking off premises', 9445),\n",
       " ('Paid parking on premises', 2970),\n",
       " ('Patio or balcony', 10598),\n",
       " ('Pocket wifi', 853),\n",
       " ('Pool', 506),\n",
       " ('Portable fans', 1430),\n",
       " ('Private entrance', 18072),\n",
       " ('Refrigerator', 31203),\n",
       " ('Room-darkening shades', 3275),\n",
       " ('Security cameras on property', 3856),\n",
       " ('Shampoo', 47876),\n",
       " ('Shower gel', 6223),\n",
       " ('Single level home', 4392),\n",
       " ('Smart lock', 860),\n",
       " ('Smoke alarm', 63482),\n",
       " ('Stove', 24610),\n",
       " ('TV', 43700),\n",
       " ('TV with standard cable', 6805),\n",
       " ('Toaster', 1359),\n",
       " ('Washer', 62613),\n",
       " ('Waterfront', 634),\n",
       " ('Wifi', 71324),\n",
       " ('Window guards', 713),\n",
       " ('Wine glasses', 1170)]"
      ]
     },
     "execution_count": 133,
     "metadata": {},
     "output_type": "execute_result"
    }
   ],
   "source": [
    "over_500 = {}\n",
    "\n",
    "for item in amenities_count_dict.keys():\n",
    "    if amenities_count_dict[item] >= 500:\n",
    "        over_500[item] = amenities_count_dict[item]\n",
    "\n",
    "sorted(over_500.items())"
   ]
  },
  {
   "cell_type": "code",
   "execution_count": 134,
   "metadata": {},
   "outputs": [],
   "source": [
    "amenities_cats_dict = {'air_conditioning': 'air conditioning', \n",
    "                       'bbq': 'bbq',\n",
    "                       'baby_facilities': 'baby|crib|changing table|high chair', \n",
    "                       'balcony_or_patio': 'patio|balcony',\n",
    "                       'bath': 'bathtub|bath', \n",
    "                       'bed_linen': 'bed linens', \n",
    "                       'cable_tv': 'cable',\n",
    "                       'child_friendly': 'children', \n",
    "                       'coffee_maker': 'coffee|nespresso', \n",
    "                       'cooking_facilities': 'oven|stove',\n",
    "                       'dishwasher': 'dishwasher', \n",
    "                       'fridge_freezer': 'refrigerator|fridge|freezer',\n",
    "                       'garden': 'backyard|garden', \n",
    "                       'has_workspace': 'workspace', \n",
    "                       'host_greets_you': 'host greets you',\n",
    "                       'long_term_stays': 'long term stays allowed',\n",
    "                       'luggage_dropoff': 'luggage dropoff', \n",
    "                       'lock_on_bedroom_door': 'lock on bedroom',\n",
    "                       'luxury_facilities': 'gym|hot tub|pool|sauna', \n",
    "                       'private_entrance': 'private entrance',\n",
    "                       'toiletries': 'soap|conditioner|shampoo|shower gel', \n",
    "                       'tumble_dryer': 'Dryer',\n",
    "                       'tv': 'tv'}\n",
    "\n",
    "for cat in amenities_cats_dict.keys():\n",
    "    if cat == 'tumble_dryer':\n",
    "        df.loc[df['amenities'].str.contains(amenities_cats_dict[cat], case = True), cat] = 1\n",
    "        df.loc[~df['amenities'].str.contains(amenities_cats_dict[cat], case = True), cat] = 0\n",
    "    else:    \n",
    "        df.loc[df['amenities'].str.contains(amenities_cats_dict[cat], case = False), cat] = 1\n",
    "        df.loc[~df['amenities'].str.contains(amenities_cats_dict[cat], case = False), cat] = 0"
   ]
  },
  {
   "cell_type": "code",
   "execution_count": 135,
   "metadata": {},
   "outputs": [
    {
     "data": {
      "text/html": [
       "<div>\n",
       "<style scoped>\n",
       "    .dataframe tbody tr th:only-of-type {\n",
       "        vertical-align: middle;\n",
       "    }\n",
       "\n",
       "    .dataframe tbody tr th {\n",
       "        vertical-align: top;\n",
       "    }\n",
       "\n",
       "    .dataframe thead th {\n",
       "        text-align: right;\n",
       "    }\n",
       "</style>\n",
       "<table border=\"1\" class=\"dataframe\">\n",
       "  <thead>\n",
       "    <tr style=\"text-align: right;\">\n",
       "      <th></th>\n",
       "      <th>0</th>\n",
       "      <th>1</th>\n",
       "      <th>2</th>\n",
       "      <th>3</th>\n",
       "      <th>4</th>\n",
       "      <th>5</th>\n",
       "      <th>6</th>\n",
       "      <th>7</th>\n",
       "      <th>8</th>\n",
       "      <th>9</th>\n",
       "    </tr>\n",
       "  </thead>\n",
       "  <tbody>\n",
       "    <tr>\n",
       "      <th>air_conditioning</th>\n",
       "      <td>0</td>\n",
       "      <td>0</td>\n",
       "      <td>1</td>\n",
       "      <td>0</td>\n",
       "      <td>1</td>\n",
       "      <td>0</td>\n",
       "      <td>0</td>\n",
       "      <td>0</td>\n",
       "      <td>0</td>\n",
       "      <td>0</td>\n",
       "    </tr>\n",
       "    <tr>\n",
       "      <th>bbq</th>\n",
       "      <td>0</td>\n",
       "      <td>0</td>\n",
       "      <td>0</td>\n",
       "      <td>0</td>\n",
       "      <td>0</td>\n",
       "      <td>0</td>\n",
       "      <td>0</td>\n",
       "      <td>0</td>\n",
       "      <td>0</td>\n",
       "      <td>0</td>\n",
       "    </tr>\n",
       "    <tr>\n",
       "      <th>baby_facilities</th>\n",
       "      <td>1</td>\n",
       "      <td>1</td>\n",
       "      <td>0</td>\n",
       "      <td>0</td>\n",
       "      <td>0</td>\n",
       "      <td>0</td>\n",
       "      <td>0</td>\n",
       "      <td>1</td>\n",
       "      <td>0</td>\n",
       "      <td>0</td>\n",
       "    </tr>\n",
       "    <tr>\n",
       "      <th>balcony_or_patio</th>\n",
       "      <td>0</td>\n",
       "      <td>1</td>\n",
       "      <td>0</td>\n",
       "      <td>0</td>\n",
       "      <td>0</td>\n",
       "      <td>0</td>\n",
       "      <td>0</td>\n",
       "      <td>0</td>\n",
       "      <td>1</td>\n",
       "      <td>0</td>\n",
       "    </tr>\n",
       "    <tr>\n",
       "      <th>bath</th>\n",
       "      <td>0</td>\n",
       "      <td>1</td>\n",
       "      <td>0</td>\n",
       "      <td>0</td>\n",
       "      <td>0</td>\n",
       "      <td>0</td>\n",
       "      <td>0</td>\n",
       "      <td>1</td>\n",
       "      <td>0</td>\n",
       "      <td>0</td>\n",
       "    </tr>\n",
       "    <tr>\n",
       "      <th>bed_linen</th>\n",
       "      <td>0</td>\n",
       "      <td>1</td>\n",
       "      <td>0</td>\n",
       "      <td>1</td>\n",
       "      <td>0</td>\n",
       "      <td>0</td>\n",
       "      <td>0</td>\n",
       "      <td>1</td>\n",
       "      <td>0</td>\n",
       "      <td>1</td>\n",
       "    </tr>\n",
       "    <tr>\n",
       "      <th>cable_tv</th>\n",
       "      <td>1</td>\n",
       "      <td>1</td>\n",
       "      <td>1</td>\n",
       "      <td>0</td>\n",
       "      <td>0</td>\n",
       "      <td>0</td>\n",
       "      <td>0</td>\n",
       "      <td>0</td>\n",
       "      <td>0</td>\n",
       "      <td>1</td>\n",
       "    </tr>\n",
       "    <tr>\n",
       "      <th>child_friendly</th>\n",
       "      <td>0</td>\n",
       "      <td>1</td>\n",
       "      <td>0</td>\n",
       "      <td>0</td>\n",
       "      <td>0</td>\n",
       "      <td>0</td>\n",
       "      <td>0</td>\n",
       "      <td>1</td>\n",
       "      <td>0</td>\n",
       "      <td>0</td>\n",
       "    </tr>\n",
       "    <tr>\n",
       "      <th>coffee_maker</th>\n",
       "      <td>1</td>\n",
       "      <td>1</td>\n",
       "      <td>1</td>\n",
       "      <td>1</td>\n",
       "      <td>0</td>\n",
       "      <td>1</td>\n",
       "      <td>0</td>\n",
       "      <td>1</td>\n",
       "      <td>1</td>\n",
       "      <td>0</td>\n",
       "    </tr>\n",
       "    <tr>\n",
       "      <th>cooking_facilities</th>\n",
       "      <td>1</td>\n",
       "      <td>1</td>\n",
       "      <td>0</td>\n",
       "      <td>1</td>\n",
       "      <td>0</td>\n",
       "      <td>0</td>\n",
       "      <td>1</td>\n",
       "      <td>1</td>\n",
       "      <td>0</td>\n",
       "      <td>0</td>\n",
       "    </tr>\n",
       "    <tr>\n",
       "      <th>dishwasher</th>\n",
       "      <td>0</td>\n",
       "      <td>0</td>\n",
       "      <td>0</td>\n",
       "      <td>1</td>\n",
       "      <td>0</td>\n",
       "      <td>0</td>\n",
       "      <td>0</td>\n",
       "      <td>1</td>\n",
       "      <td>0</td>\n",
       "      <td>0</td>\n",
       "    </tr>\n",
       "    <tr>\n",
       "      <th>fridge_freezer</th>\n",
       "      <td>1</td>\n",
       "      <td>1</td>\n",
       "      <td>1</td>\n",
       "      <td>1</td>\n",
       "      <td>0</td>\n",
       "      <td>0</td>\n",
       "      <td>0</td>\n",
       "      <td>1</td>\n",
       "      <td>1</td>\n",
       "      <td>0</td>\n",
       "    </tr>\n",
       "    <tr>\n",
       "      <th>garden</th>\n",
       "      <td>0</td>\n",
       "      <td>0</td>\n",
       "      <td>0</td>\n",
       "      <td>0</td>\n",
       "      <td>0</td>\n",
       "      <td>0</td>\n",
       "      <td>0</td>\n",
       "      <td>1</td>\n",
       "      <td>1</td>\n",
       "      <td>0</td>\n",
       "    </tr>\n",
       "    <tr>\n",
       "      <th>has_workspace</th>\n",
       "      <td>1</td>\n",
       "      <td>1</td>\n",
       "      <td>1</td>\n",
       "      <td>1</td>\n",
       "      <td>1</td>\n",
       "      <td>1</td>\n",
       "      <td>0</td>\n",
       "      <td>1</td>\n",
       "      <td>0</td>\n",
       "      <td>0</td>\n",
       "    </tr>\n",
       "    <tr>\n",
       "      <th>host_greets_you</th>\n",
       "      <td>0</td>\n",
       "      <td>1</td>\n",
       "      <td>0</td>\n",
       "      <td>0</td>\n",
       "      <td>0</td>\n",
       "      <td>0</td>\n",
       "      <td>0</td>\n",
       "      <td>0</td>\n",
       "      <td>0</td>\n",
       "      <td>1</td>\n",
       "    </tr>\n",
       "    <tr>\n",
       "      <th>long_term_stays</th>\n",
       "      <td>1</td>\n",
       "      <td>1</td>\n",
       "      <td>1</td>\n",
       "      <td>1</td>\n",
       "      <td>0</td>\n",
       "      <td>1</td>\n",
       "      <td>0</td>\n",
       "      <td>0</td>\n",
       "      <td>1</td>\n",
       "      <td>0</td>\n",
       "    </tr>\n",
       "    <tr>\n",
       "      <th>luggage_dropoff</th>\n",
       "      <td>0</td>\n",
       "      <td>1</td>\n",
       "      <td>1</td>\n",
       "      <td>0</td>\n",
       "      <td>0</td>\n",
       "      <td>0</td>\n",
       "      <td>0</td>\n",
       "      <td>0</td>\n",
       "      <td>0</td>\n",
       "      <td>0</td>\n",
       "    </tr>\n",
       "    <tr>\n",
       "      <th>lock_on_bedroom_door</th>\n",
       "      <td>0</td>\n",
       "      <td>1</td>\n",
       "      <td>0</td>\n",
       "      <td>0</td>\n",
       "      <td>1</td>\n",
       "      <td>1</td>\n",
       "      <td>0</td>\n",
       "      <td>0</td>\n",
       "      <td>1</td>\n",
       "      <td>0</td>\n",
       "    </tr>\n",
       "    <tr>\n",
       "      <th>luxury_facilities</th>\n",
       "      <td>0</td>\n",
       "      <td>0</td>\n",
       "      <td>0</td>\n",
       "      <td>0</td>\n",
       "      <td>0</td>\n",
       "      <td>0</td>\n",
       "      <td>0</td>\n",
       "      <td>0</td>\n",
       "      <td>0</td>\n",
       "      <td>0</td>\n",
       "    </tr>\n",
       "    <tr>\n",
       "      <th>private_entrance</th>\n",
       "      <td>0</td>\n",
       "      <td>0</td>\n",
       "      <td>0</td>\n",
       "      <td>0</td>\n",
       "      <td>0</td>\n",
       "      <td>0</td>\n",
       "      <td>0</td>\n",
       "      <td>1</td>\n",
       "      <td>1</td>\n",
       "      <td>0</td>\n",
       "    </tr>\n",
       "    <tr>\n",
       "      <th>toiletries</th>\n",
       "      <td>0</td>\n",
       "      <td>1</td>\n",
       "      <td>1</td>\n",
       "      <td>1</td>\n",
       "      <td>1</td>\n",
       "      <td>1</td>\n",
       "      <td>0</td>\n",
       "      <td>1</td>\n",
       "      <td>1</td>\n",
       "      <td>0</td>\n",
       "    </tr>\n",
       "    <tr>\n",
       "      <th>tumble_dryer</th>\n",
       "      <td>0</td>\n",
       "      <td>1</td>\n",
       "      <td>1</td>\n",
       "      <td>1</td>\n",
       "      <td>0</td>\n",
       "      <td>0</td>\n",
       "      <td>1</td>\n",
       "      <td>1</td>\n",
       "      <td>0</td>\n",
       "      <td>0</td>\n",
       "    </tr>\n",
       "    <tr>\n",
       "      <th>tv</th>\n",
       "      <td>1</td>\n",
       "      <td>1</td>\n",
       "      <td>1</td>\n",
       "      <td>1</td>\n",
       "      <td>1</td>\n",
       "      <td>0</td>\n",
       "      <td>0</td>\n",
       "      <td>1</td>\n",
       "      <td>1</td>\n",
       "      <td>1</td>\n",
       "    </tr>\n",
       "  </tbody>\n",
       "</table>\n",
       "</div>"
      ],
      "text/plain": [
       "                      0  1  2  3  4  5  6  7  8  9\n",
       "air_conditioning      0  0  1  0  1  0  0  0  0  0\n",
       "bbq                   0  0  0  0  0  0  0  0  0  0\n",
       "baby_facilities       1  1  0  0  0  0  0  1  0  0\n",
       "balcony_or_patio      0  1  0  0  0  0  0  0  1  0\n",
       "bath                  0  1  0  0  0  0  0  1  0  0\n",
       "bed_linen             0  1  0  1  0  0  0  1  0  1\n",
       "cable_tv              1  1  1  0  0  0  0  0  0  1\n",
       "child_friendly        0  1  0  0  0  0  0  1  0  0\n",
       "coffee_maker          1  1  1  1  0  1  0  1  1  0\n",
       "cooking_facilities    1  1  0  1  0  0  1  1  0  0\n",
       "dishwasher            0  0  0  1  0  0  0  1  0  0\n",
       "fridge_freezer        1  1  1  1  0  0  0  1  1  0\n",
       "garden                0  0  0  0  0  0  0  1  1  0\n",
       "has_workspace         1  1  1  1  1  1  0  1  0  0\n",
       "host_greets_you       0  1  0  0  0  0  0  0  0  1\n",
       "long_term_stays       1  1  1  1  0  1  0  0  1  0\n",
       "luggage_dropoff       0  1  1  0  0  0  0  0  0  0\n",
       "lock_on_bedroom_door  0  1  0  0  1  1  0  0  1  0\n",
       "luxury_facilities     0  0  0  0  0  0  0  0  0  0\n",
       "private_entrance      0  0  0  0  0  0  0  1  1  0\n",
       "toiletries            0  1  1  1  1  1  0  1  1  0\n",
       "tumble_dryer          0  1  1  1  0  0  1  1  0  0\n",
       "tv                    1  1  1  1  1  0  0  1  1  1"
      ]
     },
     "execution_count": 135,
     "metadata": {},
     "output_type": "execute_result"
    }
   ],
   "source": [
    "df.head(10).T.iloc[44:]"
   ]
  },
  {
   "cell_type": "code",
   "execution_count": null,
   "metadata": {},
   "outputs": [],
   "source": [
    "# # converting the list values in the amenities column in to binary dummified columns\n",
    "\n",
    "# amenities_values = []\n",
    "\n",
    "# for amenities_list in df.amenities:\n",
    "#     if eval(amenities_list) != None:\n",
    "#         lst = eval(amenities_list)\n",
    "#         for value in lst:\n",
    "#             if value not in amenities_values:\n",
    "#                 amenities_values.append(value)\n",
    "            \n",
    "# amenities_dict = {}\n",
    "\n",
    "# for value in amenities_values:\n",
    "#     amenities_dict[value] = []    \n",
    "    \n",
    "# for amenities_list in df.amenities:\n",
    "#     if eval(amenities_list) != None:\n",
    "#         lst = eval(amenities_list)\n",
    "#         for key in amenities_dict.keys():\n",
    "#             if key in lst:\n",
    "#                 amenities_dict[key].append(1)\n",
    "#             else:\n",
    "#                 amenities_dict[key].append(0)\n",
    "#     else:\n",
    "#         for key in amenities_dict.keys():\n",
    "#             amenities_dict[key].append(0)\n",
    "            \n",
    "# amenities_columns = []\n",
    "\n",
    "# for key in amenities_dict.keys():\n",
    "#     if sum(amenities_dict[key]) > df.shape[0]*0.01:\n",
    "#         amenities_columns.append(key)            \n",
    "        \n",
    "# for column in amenities_columns:\n",
    "#     df[\"amenities_\"+column] = amenities_dict[column]        \n",
    "    \n",
    "# df.drop('amenities',axis=1, inplace=True)     "
   ]
  },
  {
   "cell_type": "markdown",
   "metadata": {},
   "source": [
    "### Removing outliers\n",
    "\n",
    "#### Target Variable"
   ]
  },
  {
   "cell_type": "markdown",
   "metadata": {},
   "source": [
    "Lots of outliers in the target variable......"
   ]
  },
  {
   "cell_type": "markdown",
   "metadata": {},
   "source": [
    "I'm going to make the assumption that a lot of these outliers are one of the following:\n",
    "\n",
    "- erroneously scraped (some of the properties have zero availability, which might have affected whichever software was used to scrape the data)\n",
    "- the price of the property has been raised by the host to prevent people from renting it (as an alternative to removing the listing?)\n",
    "- the property has been listed as a joke - see toilet room :)\n",
    "- the price has been set incorrectly by mistake"
   ]
  },
  {
   "cell_type": "code",
   "execution_count": null,
   "metadata": {},
   "outputs": [],
   "source": [
    "# dropping outliers based on the conditions below\n",
    "\n",
    "room_outliers = df[(df.room_type=='Private room')&(df.price>1000)]\n",
    "house_outliers = df[(df.room_type=='Entire home/apt')&(df.price>10000)]\n",
    "\n",
    "df.drop(room_outliers.index, axis=0, inplace=True)\n",
    "df.drop(house_outliers.index, axis=0, inplace=True)"
   ]
  },
  {
   "cell_type": "code",
   "execution_count": null,
   "metadata": {},
   "outputs": [],
   "source": [
    "fig,ax = plt.subplots(figsize=(20,10))\n",
    "\n",
    "sns.boxplot(x=df.price,y=df.room_type,ax=ax)\n",
    "\n",
    "plt.show()"
   ]
  },
  {
   "cell_type": "markdown",
   "metadata": {},
   "source": [
    "### Investigating the outliers in the Hotel room and Shared room categories"
   ]
  },
  {
   "cell_type": "code",
   "execution_count": null,
   "metadata": {},
   "outputs": [],
   "source": [
    "df[(df.room_type=='Hotel room')&(df.price>500)].T.head()"
   ]
  },
  {
   "cell_type": "markdown",
   "metadata": {},
   "source": [
    "These properties seem legitimate!"
   ]
  },
  {
   "cell_type": "code",
   "execution_count": null,
   "metadata": {},
   "outputs": [],
   "source": [
    "df[(df.room_type=='Shared room')&(df.price>400)].T.head()"
   ]
  },
  {
   "cell_type": "markdown",
   "metadata": {},
   "source": [
    "This property does not seem to be accurately priced. I'm going to remove it from the dataset."
   ]
  },
  {
   "cell_type": "code",
   "execution_count": null,
   "metadata": {},
   "outputs": [],
   "source": [
    "shared_rooms_drop = [37661065, 17420384, 21425945]\n",
    "\n",
    "df.drop(df[df.id.isin(shared_rooms_drop)].index,inplace=True)"
   ]
  },
  {
   "cell_type": "markdown",
   "metadata": {},
   "source": [
    "### Investigating the big price outliers in the Entire home/apt variable"
   ]
  },
  {
   "cell_type": "code",
   "execution_count": null,
   "metadata": {},
   "outputs": [],
   "source": [
    "df[(df.room_type=='Entire home/apt')&(df.price>4000)].sort_values('price',ascending=False)"
   ]
  },
  {
   "cell_type": "code",
   "execution_count": null,
   "metadata": {},
   "outputs": [],
   "source": [
    "entire_houses_drop = [36657089, 11851238, 23706138, 39383869, 7974622, 40518546]\n",
    "\n",
    "\n",
    "df.drop(df[df.id.isin(entire_houses_drop)].index,inplace=True)"
   ]
  },
  {
   "cell_type": "code",
   "execution_count": null,
   "metadata": {},
   "outputs": [],
   "source": [
    "fig,ax = plt.subplots(figsize=(20,10))\n",
    "\n",
    "sns.boxplot(x=df.price,y=df.room_type,ax=ax)\n",
    "\n",
    "plt.show()"
   ]
  },
  {
   "cell_type": "markdown",
   "metadata": {},
   "source": [
    "### Looking at the outliers in the bathrooms and bedrooms categories"
   ]
  },
  {
   "cell_type": "markdown",
   "metadata": {},
   "source": [
    "This property gives a price per night for an individual property, yet lists all of the bathrooms and bedrooms for the range of properties the host offers on one one page: https://www.airbnb.com/rooms/43483035 65471\n",
    "https://www.airbnb.com/rooms/47089782 71819\n",
    "\n",
    "\n",
    "This property has erroneous listingsL: https://www.airbnb.com/rooms/40222389\t58992"
   ]
  },
  {
   "cell_type": "code",
   "execution_count": null,
   "metadata": {},
   "outputs": [],
   "source": [
    "df_drop_outliers = df[(df.listing_url=='https://www.airbnb.com/rooms/43483035')|(df.listing_url=='https://www.airbnb.com/rooms/47089782')|(df.listing_url=='https://www.airbnb.com/rooms/40222389')]"
   ]
  },
  {
   "cell_type": "code",
   "execution_count": null,
   "metadata": {},
   "outputs": [],
   "source": [
    "# removing these properties from the dataset\n",
    "\n",
    "df.drop(df_drop_outliers.index,axis=0,inplace=True)"
   ]
  },
  {
   "cell_type": "markdown",
   "metadata": {},
   "source": [
    "### Re-checking for null values"
   ]
  },
  {
   "cell_type": "code",
   "execution_count": null,
   "metadata": {},
   "outputs": [],
   "source": [
    "null_values = pd.DataFrame(df.isnull().sum())\n",
    "null_values = null_values[null_values[0] != 0]\n",
    "null_values"
   ]
  },
  {
   "cell_type": "markdown",
   "metadata": {},
   "source": [
    "To-Do List\n",
    "\n",
    "Data Cleaning:\n",
    "\n",
    "- use median values rather than mean values (mean values will be swayed more by outliers)\n",
    "- simplify the categorisation of the property type variable\n",
    "- apply lower and higher limits to the price variable to deal with outliers\n",
    "- simplify the amenities binarised variables\n",
    "- bring in geographical proximity of attractions as target variables\n",
    "- use the replace function rather than if/else functions when converting column data\n",
    "\n",
    "Variable Transformation:\n",
    "\n",
    "- look at distributions of continuous/discrete variables - do they need transforming?\n",
    "- look in to log transforming the continuous variables (naive-Bayes lessons)\n",
    "\n",
    "Modelling:\n",
    "\n",
    "- review the use of NLP - could we instead look at key words within the variables? This might be a better option for the title variable\n",
    "- can we use neural networks?\n",
    "\n",
    "good visualisations: https://towardsdatascience.com/predicting-airbnb-prices-with-deep-learning-part-2-how-to-improve-your-nightly-price-50ea8bc2bd29"
   ]
  },
  {
   "cell_type": "markdown",
   "metadata": {},
   "source": [
    "Change Tracker:\n",
    "\n",
    "- added serviced column\n",
    "- removed host_since column"
   ]
  }
 ],
 "metadata": {
  "kernelspec": {
   "display_name": "Python 3",
   "language": "python",
   "name": "python3"
  },
  "language_info": {
   "codemirror_mode": {
    "name": "ipython",
    "version": 3
   },
   "file_extension": ".py",
   "mimetype": "text/x-python",
   "name": "python",
   "nbconvert_exporter": "python",
   "pygments_lexer": "ipython3",
   "version": "3.8.5"
  }
 },
 "nbformat": 4,
 "nbformat_minor": 4
}
